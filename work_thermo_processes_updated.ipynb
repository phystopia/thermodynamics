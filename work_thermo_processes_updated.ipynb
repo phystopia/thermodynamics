{
 "cells": [
  {
   "cell_type": "markdown",
   "id": "52daed76",
   "metadata": {},
   "source": [
    "# Work in Thermodynamic Processes\n",
    "This notebook introduces the concept of work in thermodynamics and demonstrates how to compute it analytically and with Python."
   ]
  },
  {
   "cell_type": "code",
   "execution_count": null,
   "id": "08efd129",
   "metadata": {},
   "outputs": [],
   "source": [
    "import numpy as np\n",
    "import pandas as pd\n",
    "import seaborn as sns\n",
    "import matplotlib.pyplot as plt\n",
    "from scipy import integrate\n",
    "from sympy import symbols, integrate as sy_integrate, simplify, lambdify\n",
    "\n",
    "sns.set_theme(context='notebook', style='darkgrid', palette='deep', font='sans-serif', font_scale=1.2)"
   ]
  },
  {
   "cell_type": "markdown",
   "id": "fbae823d",
   "metadata": {},
   "source": [
    "## Problem-Solving Strategy\n",
    "1. Identify process type (e.g., isobaric, polytropic).\n",
    "2. Write initial and final states.\n",
    "3. Use the appropriate work formula.\n",
    "4. Plot the process.\n",
    "5. Compute work and analyze units/sign.\n",
    "6. Interpret the result."
   ]
  },
  {
   "cell_type": "markdown",
   "id": "06aa84e1",
   "metadata": {},
   "source": [
    "## Example 1: Isobaric Process\n",
    "$W = P(V_2 - V_1)$"
   ]
  },
  {
   "cell_type": "code",
   "execution_count": null,
   "id": "1c34fed0",
   "metadata": {},
   "outputs": [],
   "source": [
    "P = 300  # kPa\n",
    "V1 = 0.2  # m^3\n",
    "V2 = 0.6  # m^3\n",
    "\n",
    "W_isobaric = P * (V2 - V1)\n",
    "print(f\"Work done (isobaric): {W_isobaric:.2f} kJ\")\n",
    "\n",
    "plt.figure()\n",
    "plt.plot([V1, V2], [P, P], label='Isobaric Process')\n",
    "plt.fill_between([V1, V2], [P, P], alpha=0.3)\n",
    "plt.xlabel('Volume [m³]')\n",
    "plt.ylabel('Pressure [kPa]')\n",
    "plt.title('P-V Diagram: Isobaric Expansion')\n",
    "plt.legend()\n",
    "plt.grid(True)\n",
    "plt.show()"
   ]
  },
  {
   "cell_type": "markdown",
   "id": "d450de1d",
   "metadata": {},
   "source": [
    "## Example 2: Polytropic Process\n",
    "$PV^n = \\text{const}$"
   ]
  },
  {
   "cell_type": "code",
   "execution_count": null,
   "id": "976a480f",
   "metadata": {},
   "outputs": [],
   "source": [
    "n = 1.3\n",
    "P1 = 500  # kPa\n",
    "V1 = 0.1  # m^3\n",
    "V2 = 0.25  # m^3\n",
    "\n",
    "if n != 1:\n",
    "    W_poly = (P1 * V1**n) * (V2**(1 - n) - V1**(1 - n)) / (1 - n)\n",
    "else:\n",
    "    W_poly = P1 * V1 * np.log(V2 / V1)\n",
    "\n",
    "print(f\"Work done (polytropic): {W_poly:.2f} kJ\")\n",
    "\n",
    "V = np.linspace(V1, V2, 100)\n",
    "P = P1 * (V1**n) / V**n\n",
    "\n",
    "plt.figure()\n",
    "plt.plot(V, P, label=f'Polytropic n={n}')\n",
    "plt.fill_between(V, P, alpha=0.3)\n",
    "plt.xlabel('Volume [m³]')\n",
    "plt.ylabel('Pressure [kPa]')\n",
    "plt.title('P-V Diagram: Polytropic Process')\n",
    "plt.legend()\n",
    "plt.grid(True)\n",
    "plt.show()"
   ]
  },
  {
   "cell_type": "markdown",
   "id": "0f905e72",
   "metadata": {},
   "source": [
    "## Final Notes for Assignment Application\n",
    "Use this notebook as a guide for your problem set:\n",
    "- For polytropic or linear processes: apply the integral definition.\n",
    "- Use shaded plots to confirm work direction.\n",
    "- Reuse code and plug in your assigned values.\n",
    "- Validate units and include diagrams in your submission."
   ]
  }
 ],
 "metadata": {
  "kernelspec": {
   "display_name": "Python 3 (ipykernel)",
   "language": "python",
   "name": "python3"
  },
  "language_info": {
   "codemirror_mode": {
    "name": "ipython",
    "version": 3
   },
   "file_extension": ".py",
   "mimetype": "text/x-python",
   "name": "python",
   "nbconvert_exporter": "python",
   "pygments_lexer": "ipython3",
   "version": "3.12.2"
  }
 },
 "nbformat": 4,
 "nbformat_minor": 5
}
