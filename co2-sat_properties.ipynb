{
 "cells": [
  {
   "cell_type": "markdown",
   "id": "4f6bca7b-ae81-4e02-a7b1-0302b2b63a93",
   "metadata": {},
   "source": [
    "# Saturated $CO_2$ Properties"
   ]
  },
  {
   "cell_type": "code",
   "execution_count": 3,
   "id": "a9cfeb71-832d-4b48-ad4e-a1464dbdef99",
   "metadata": {
    "tags": []
   },
   "outputs": [],
   "source": [
    "import pyromat as pyro\n",
    "import pandas as pd\n",
    "import numpy as np"
   ]
  },
  {
   "cell_type": "code",
   "execution_count": 5,
   "id": "fac1689c-5a74-4953-abb8-e0da08031783",
   "metadata": {},
   "outputs": [],
   "source": [
    "# Initialize PYroMat and get carbon dioxide data\n",
    "pyro.config[\"unit_pressure\"] = \"kPa\"\n",
    "pyro.config[\"unit_temperature\"] = \"K\"\n",
    "pyro.config[\"unit_energy\"] = \"kJ\""
   ]
  },
  {
   "cell_type": "code",
   "execution_count": 7,
   "id": "85900ee2-f407-4742-8ad6-c845d7536e26",
   "metadata": {},
   "outputs": [],
   "source": [
    "CO2 = pyro.get(\"mp.CO2\")"
   ]
  },
  {
   "cell_type": "code",
   "execution_count": 9,
   "id": "a879f062-3bfd-4973-858d-3d53e1901402",
   "metadata": {
    "tags": []
   },
   "outputs": [
    {
     "name": "stdout",
     "output_type": "stream",
     "text": [
      "Molar mass: 4.4010e+01 kg/kmol\n"
     ]
    }
   ],
   "source": [
    "M = CO2.mw()\n",
    "print (f'Molar mass: {M:.4e} kg/kmol')"
   ]
  },
  {
   "cell_type": "code",
   "execution_count": 11,
   "id": "fbfe6313-bd0c-4753-aac0-688ce4276640",
   "metadata": {
    "tags": []
   },
   "outputs": [
    {
     "name": "stdout",
     "output_type": "stream",
     "text": [
      "Gas constant: 1.8892e-01 kJ/(kg·K))\n"
     ]
    }
   ],
   "source": [
    "R = CO2.R()\n",
    "print (f'Gas constant: {R:.4e} kJ/(kg·K))')"
   ]
  },
  {
   "cell_type": "code",
   "execution_count": 13,
   "id": "75070340-d8cc-4cd9-9dc5-781401e4ec09",
   "metadata": {
    "tags": []
   },
   "outputs": [
    {
     "name": "stdout",
     "output_type": "stream",
     "text": [
      "Triple-point properties \n",
      " Temperature (Tt): 2.1659e+02 K, Pressure (Pt): 5.1795e+02 carous Pa\n"
     ]
    }
   ],
   "source": [
    "Tt, Pt = CO2.triple()\n",
    "print (f'Triple-point properties \\n Temperature (Tt): {Tt:.4e} K, Pressure (Pt): {Pt:.4e} carous Pa')"
   ]
  },
  {
   "cell_type": "code",
   "execution_count": 15,
   "id": "178ce7ca-87f5-449c-a047-ac12d8d75621",
   "metadata": {
    "tags": []
   },
   "outputs": [
    {
     "name": "stdout",
     "output_type": "stream",
     "text": [
      "Critical-point properties \n",
      " Temperature (Tc): 3.0413e+02 K, Pressure (Pc): 7.3773e+03 kPa\n"
     ]
    }
   ],
   "source": [
    "Tc, Pc = CO2.critical()\n",
    "print (f'Critical-point properties \\n Temperature (Tc): {Tc:.4e} K, Pressure (Pc): {Pc:.4e} kPa')"
   ]
  },
  {
   "cell_type": "code",
   "execution_count": 23,
   "id": "6a7f0c9e-1a57-4b3f-b0b2-a699f3b5a523",
   "metadata": {
    "tags": []
   },
   "outputs": [
    {
     "name": "stdout",
     "output_type": "stream",
     "text": [
      "specific heat (constant p) cp: 8.5262e-01 kJ/(kg·K))\n"
     ]
    }
   ],
   "source": [
    "cp = CO2.cp(T=300)[0]\n",
    "print (f'specific heat (constant p) cp: {cp:.4e} kJ/(kg·K))')"
   ]
  },
  {
   "cell_type": "code",
   "execution_count": 25,
   "id": "88926733-bacf-4b22-83de-4124942fa9ff",
   "metadata": {
    "tags": []
   },
   "outputs": [
    {
     "name": "stdout",
     "output_type": "stream",
     "text": [
      "specific heat (constant v) cv: 6.5934e-01 kJ/(kg·K))\n"
     ]
    }
   ],
   "source": [
    "cv = CO2.cv(T=300)[0]\n",
    "print (f'specific heat (constant v) cv: {cv:.4e} kJ/(kg·K))')"
   ]
  },
  {
   "cell_type": "code",
   "execution_count": 38,
   "id": "67955b96-dad7-4351-97f3-9f885e8e251e",
   "metadata": {
    "tags": []
   },
   "outputs": [
    {
     "name": "stdout",
     "output_type": "stream",
     "text": [
      "specific heats ratio (cp/cv) k: 1.2931\n"
     ]
    }
   ],
   "source": [
    "k = CO2.gam(T=300)[0]\n",
    "print (f'specific heats ratio (cp/cv) k: {k:.4f}')"
   ]
  },
  {
   "cell_type": "markdown",
   "id": "dce8c632-f4b1-4f9f-94e2-fc9852880778",
   "metadata": {},
   "source": [
    "## Ideal-gas specific heats at various temperatures"
   ]
  },
  {
   "cell_type": "code",
   "execution_count": 30,
   "id": "3a7f815e-7ca9-4fc3-a0db-b60b3a78fc3f",
   "metadata": {},
   "outputs": [
    {
     "name": "stdout",
     "output_type": "stream",
     "text": [
      "Tt_rounded: 217 K, Tc_rounded: 303 K\n"
     ]
    }
   ],
   "source": [
    "# Round the triple and critical temperatures to the nearest integers\n",
    "Tt_rounded = int(round(Tt))\n",
    "Tc_rounded = int(round(0.997*Tc))\n",
    "\n",
    "print (f'Tt_rounded: {Tt_rounded} K, Tc_rounded: {Tc_rounded} K')"
   ]
  },
  {
   "cell_type": "code",
   "execution_count": 44,
   "id": "f07dc1a5-19f8-4adb-82c3-621c8b8ea963",
   "metadata": {},
   "outputs": [
    {
     "name": "stdout",
     "output_type": "stream",
     "text": [
      "Data saved to CO2-specific_heats.xlsx\n"
     ]
    }
   ],
   "source": [
    "# Define the temperature range with integer steps\n",
    "T = np.arange(200, 1001, 20)  # +1 to include the critical point\n",
    "\n",
    "# Initialize dictionaries to store properties\n",
    "data = {\n",
    "    'T (K)'     : [],\n",
    "    'cp (kJ/kg)': [],\n",
    "    'cv (kJ/kg)': [],\n",
    "    'k         ': []  \n",
    "}\n",
    "\n",
    "# Retrieve properties for each temperature\n",
    "for temp in T:\n",
    "    data['T (K)'].append(temp)\n",
    "    data['cp (kJ/kg)'].append(CO2.cp(temp)[0])\n",
    "    data['cv (kJ/kg)'].append(CO2.cv(temp)[0])\n",
    "    data['k         '].append(CO2.gam(temp)[0])\n",
    "  \n",
    "# Create the DataFrame\n",
    "df = pd.DataFrame(data)\n",
    "\n",
    "# Export the DataFrame to a CSV file\n",
    "#filename = \"CO2_property_table.csv\"\n",
    "#df.to_csv(filename, index=False)\n",
    "\n",
    "# Export the DataFrame to an Excel file\n",
    "filename = \"CO2-specific_heats.xlsx\"\n",
    "df.to_excel(filename, index=False)\n",
    "\n",
    "print(f\"Data saved to {filename}\")"
   ]
  },
  {
   "cell_type": "markdown",
   "id": "993eda56-437f-4b76-85c8-84401c831791",
   "metadata": {},
   "source": [
    "## Datos Examen 25-1"
   ]
  },
  {
   "cell_type": "code",
   "execution_count": 60,
   "id": "aa8a3b1a-105e-4a10-bf3e-c16f71502584",
   "metadata": {},
   "outputs": [
    {
     "name": "stdout",
     "output_type": "stream",
     "text": [
      "u2: -91.652 kJ/kg - u1: 187.31 kJ/kg = -278.96 kJ/kg\n"
     ]
    }
   ],
   "source": [
    "T1 = 608.42\n",
    "T2 = 243.35\n",
    "u1 = CO2.e(T1)[0]\n",
    "u2 = CO2.e(T2)[0]\n",
    "print (f'u2: {u2:.5} kJ/kg - u1: {u1:.5} kJ/kg = {(u2-u1):.5} kJ/kg')"
   ]
  },
  {
   "cell_type": "code",
   "execution_count": 68,
   "id": "d5c75a21-232b-4be1-bdef-31e6cb86ad35",
   "metadata": {},
   "outputs": [
    {
     "name": "stdout",
     "output_type": "stream",
     "text": [
      "u2: -75.502 kJ/kg - u1: 371.82 kJ/kg = -447.32 kJ/kg\n"
     ]
    }
   ],
   "source": [
    "T1vdw = 804.82\n",
    "T2vdw = 269.46\n",
    "u1vdw = CO2.e(T1vdw)[0]\n",
    "u2vdw = CO2.e(T2vdw)[0]\n",
    "print (f'u2: {u2vdw:.5} kJ/kg - u1: {u1vdw:.5} kJ/kg = {(u2vdw-u1vdw):.5} kJ/kg')"
   ]
  },
  {
   "cell_type": "markdown",
   "id": "e6d6354c-20e1-482d-85f7-155423647c2f",
   "metadata": {},
   "source": [
    "## Saturated $CO_2$ - Temperature Table"
   ]
  },
  {
   "cell_type": "code",
   "execution_count": 8,
   "id": "f2215363-eaf5-4baa-9c1e-921fd9c64d85",
   "metadata": {
    "tags": []
   },
   "outputs": [
    {
     "name": "stdout",
     "output_type": "stream",
     "text": [
      "Tt_rounded: 217 K, Tc_rounded: 303 K\n"
     ]
    }
   ],
   "source": [
    "# Round the triple and critical temperatures to the nearest integers\n",
    "Tt_rounded = int(round(Tt))\n",
    "Tc_rounded = int(round(0.997*Tc))\n",
    "\n",
    "print (f'Tt_rounded: {Tt_rounded} K, Tc_rounded: {Tc_rounded} K')"
   ]
  },
  {
   "cell_type": "code",
   "execution_count": null,
   "id": "c617660a-3b7e-4ed7-ac6e-1c950f0cb206",
   "metadata": {},
   "outputs": [],
   "source": [
    "# Define the temperature range with integer steps\n",
    "T = np.arange(Tt_rounded, Tc_rounded + 1)  # +1 to include the critical point\n",
    "\n",
    "# Initialize dictionaries to store properties\n",
    "data = {\n",
    "    'T (K)'     : [],\n",
    "    'Psat (kPa)': [],\n",
    "    'vf (m³/kg)': [],\n",
    "    'vg (m³/kg)': [],\n",
    "    'uf (kJ/kg)': [],\n",
    "    'ug (kJ/kg)': [],\n",
    "    'hf (kJ/kg)': [],\n",
    "    'hg (kJ/kg)': [],\n",
    "    'sf (kJ/(kg·K))': [],\n",
    "    'sg (kJ/(kg·K))': []    \n",
    "}\n",
    "\n",
    "# Retrieve properties for each temperature\n",
    "for temp in T:\n",
    "    data['T (K)'].append(temp)\n",
    "    data['Psat (kPa)'].append(CO2.ps(temp))\n",
    "    vf, vg = CO2.vs(temp)\n",
    "    data['vf (m³/kg)'].append(vf[0])\n",
    "    data['vg (m³/kg)'].append(vg[0])\n",
    "    uf, ug = CO2.es(temp)\n",
    "    data['uf (kJ/kg)'].append(uf[0])\n",
    "    data['ug (kJ/kg)'].append(ug[0])\n",
    "    hf, hg = CO2.hs(temp)\n",
    "    data['hf (kJ/kg)'].append(hf[0])\n",
    "    data['hg (kJ/kg)'].append(hg[0])\n",
    "    sf, sg = CO2.ss(temp)\n",
    "    data['sf (kJ/(kg·K))'].append(sf[0])\n",
    "    data['sg (kJ/(kg·K))'].append(sg[0])\n",
    "\n",
    "# Create the DataFrame\n",
    "df = pd.DataFrame(data)\n",
    "\n",
    "# Export the DataFrame to a CSV file\n",
    "#filename = \"CO2_property_table.csv\"\n",
    "#df.to_csv(filename, index=False)\n",
    "\n",
    "# Export the DataFrame to an Excel file\n",
    "filename = \"CO2-properties-T.xlsx\"\n",
    "df.to_excel(filename, index=False)\n",
    "\n",
    "print(f\"Data saved to {filename}\")"
   ]
  },
  {
   "cell_type": "markdown",
   "id": "9e78acc4-6164-4e5e-b8e1-113bc7eccb3d",
   "metadata": {},
   "source": [
    "## Saturated $CO_2$ - Pressure Table"
   ]
  },
  {
   "cell_type": "code",
   "execution_count": 36,
   "id": "f6b0fbdd-d9ad-49c1-a833-564f0ce3d404",
   "metadata": {
    "tags": []
   },
   "outputs": [
    {
     "name": "stdout",
     "output_type": "stream",
     "text": [
      "Pt_rounded: 518 kPa, Pc_rounded: 7348 kPa\n"
     ]
    }
   ],
   "source": [
    "# Round the triple and critical pressures to the nearest integers\n",
    "Pt_rounded = int(round(Pt))\n",
    "Pc_rounded = int(round(0.996*Pc))\n",
    "\n",
    "print (f'Pt_rounded: {Pt_rounded} kPa, Pc_rounded: {Pc_rounded} kPa')"
   ]
  },
  {
   "cell_type": "code",
   "execution_count": 37,
   "id": "4c92cfc5-f1a0-4595-9e74-77a34bee139f",
   "metadata": {
    "tags": []
   },
   "outputs": [
    {
     "name": "stdout",
     "output_type": "stream",
     "text": [
      "Data saved to CO2-properties-P1.xlsx\n"
     ]
    }
   ],
   "source": [
    "# Find the next highest pressure that is a multiple of 50\n",
    "P_next = np.ceil(Pt_rounded / 50) * 50\n",
    "    \n",
    "P_multiple = np.arange(P_next, Pc_rounded, 50)  # Define pressures above P_next until Pc in steps of 50 kPa\n",
    "\n",
    "# Combine P with the superheated temperatures\n",
    "P = np.concatenate(([Pt_rounded], P_multiple))\n",
    "\n",
    "# Initialize dictionaries to store properties\n",
    "data = {\n",
    "    'P (kPa)'   : [],\n",
    "    'Tsat (K)'  : [],\n",
    "    'vf (m³/kg)': [],\n",
    "    'vg (m³/kg)': [],\n",
    "    'uf (kJ/kg)': [],\n",
    "    'ug (kJ/kg)': [],\n",
    "    'hf (kJ/kg)': [],\n",
    "    'hg (kJ/kg)': [],\n",
    "    'sf (kJ/(kg·K))': [],\n",
    "    'sg (kJ/(kg·K))': []\n",
    "}\n",
    "\n",
    "# Retrieve properties for each pressure\n",
    "for pressure in P:\n",
    "    data['P (kPa)'].append(pressure)    \n",
    "    data['Tsat (K)'].append(CO2.Ts(p=pressure)[0])\n",
    "    vf, vg = CO2.vs(p=pressure)\n",
    "    data['vf (m³/kg)'].append(vf[0])\n",
    "    data['vg (m³/kg)'].append(vg[0])\n",
    "    uf, ug = CO2.es(p=pressure)\n",
    "    data['uf (kJ/kg)'].append(uf[0])\n",
    "    data['ug (kJ/kg)'].append(ug[0])\n",
    "    hf, hg = CO2.hs(p=pressure)\n",
    "    data['hf (kJ/kg)'].append(hf[0])\n",
    "    data['hg (kJ/kg)'].append(hg[0])\n",
    "    sf, sg = CO2.ss(p=pressure)\n",
    "    data['sf (kJ/(kg·K))'].append(sf[0])\n",
    "    data['sg (kJ/(kg·K))'].append(sg[0])\n",
    "\n",
    "# Create the DataFrame\n",
    "df = pd.DataFrame(data)\n",
    "\n",
    "# Export the DataFrame to a CSV file\n",
    "#filename = \"CO2_property_table.csv\"\n",
    "#df.to_csv(filename, index=False)\n",
    "\n",
    "# Export the DataFrame to an Excel file\n",
    "filename = \"CO2-properties-P.xlsx\"\n",
    "df.to_excel(filename, index=False)\n",
    "\n",
    "print(f\"Data saved to {filename}\")\n"
   ]
  },
  {
   "cell_type": "markdown",
   "id": "1fdf1633-2942-4f37-8339-f44db17dc2a5",
   "metadata": {},
   "source": [
    "## $CO_2$ - Superheated Vapor"
   ]
  },
  {
   "cell_type": "code",
   "execution_count": 45,
   "id": "8d187187-178e-4872-ba33-8915e52ec33b",
   "metadata": {
    "tags": []
   },
   "outputs": [
    {
     "name": "stdout",
     "output_type": "stream",
     "text": [
      "Data saved to CO2-properties-superheated.xlsx\n"
     ]
    }
   ],
   "source": [
    "Pt_rounded = 600\n",
    "\n",
    "# Find the next highest pressure that is a multiple of 1000\n",
    "P_next = np.ceil(Pt_rounded / 1000) * 1000\n",
    "    \n",
    "P_multiple = np.arange(P_next, Pc_rounded, 1000)  # Define pressures above P_next until Pc in steps of 1000 kPa\n",
    "\n",
    "# Combine P with the superheated temperatures\n",
    "pressures = np.concatenate(([Pt_rounded], P_multiple))\n",
    "\n",
    "# Initialize a list to store the data\n",
    "data = []\n",
    "\n",
    "# Loop over each pressure\n",
    "for P in pressures:\n",
    "    Tsat = CO2.Ts(P)[0]  # Get the saturation temperature for the current pressure\n",
    "    # Tsat_rounded = int(round(Tsat))\n",
    "    \n",
    "    # Find the next highest temperature that is a multiple of 50\n",
    "    T_next = np.ceil(Tsat / 50) * 50\n",
    "    \n",
    "#   T_multiple = np.arange(T_next, T_next + 450, 50)  # Define temperatures above T_next in steps of 50 K\n",
    "    T_multiple = np.arange(T_next, Tsat, 50)  # Define temperatures above T_next in steps of 50 K\n",
    "\n",
    "    \n",
    "    # Combine Tsat with the superheated temperatures\n",
    "    T_superheated = np.concatenate(([Tsat_rounded], T_multiple))\n",
    "\n",
    "    # Calculate properties for each temperature\n",
    "    for T in T_superheated:\n",
    "        row = {\n",
    "            'P (kPa)': P,\n",
    "            'T (K)'  : T,\n",
    "            'v (m3/kg)': CO2.v(T, P)[0],\n",
    "            'u (kJ/kg)': CO2.e(T, P)[0],\n",
    "            'h (kJ/kg)': CO2.h(T, P)[0],\n",
    "            's (kJ/(kg*K))': CO2.s(T, P)[0]\n",
    "         }\n",
    "        data.append(row)\n",
    "\n",
    "# Create the DataFrame\n",
    "df = pd.DataFrame(data)\n",
    "\n",
    "# Export the DataFrame to an Excel file\n",
    "filename = \"CO2-properties-superheated.xlsx\"\n",
    "df.to_excel(filename, index=False)\n",
    "\n",
    "print(f\"Data saved to {filename}\")"
   ]
  }
 ],
 "metadata": {
  "kernelspec": {
   "display_name": "Python 3 (ipykernel)",
   "language": "python",
   "name": "python3"
  },
  "language_info": {
   "codemirror_mode": {
    "name": "ipython",
    "version": 3
   },
   "file_extension": ".py",
   "mimetype": "text/x-python",
   "name": "python",
   "nbconvert_exporter": "python",
   "pygments_lexer": "ipython3",
   "version": "3.12.7"
  }
 },
 "nbformat": 4,
 "nbformat_minor": 5
}
