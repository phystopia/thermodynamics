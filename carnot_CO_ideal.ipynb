{
 "cells": [
  {
   "cell_type": "markdown",
   "id": "Gn9CpP3InnDL",
   "metadata": {
    "id": "Gn9CpP3InnDL"
   },
   "source": [
    "# The Carnot Cycle (CO · ideal)"
   ]
  },
  {
   "cell_type": "markdown",
   "id": "WtTT2Fp9ifZQ",
   "metadata": {
    "id": "WtTT2Fp9ifZQ"
   },
   "source": [
    "*Alexander Osorio C., October 2025*"
   ]
  },
  {
   "cell_type": "markdown",
   "id": "54ec2edd",
   "metadata": {},
   "source": [
    "## Setup"
   ]
  },
  {
   "cell_type": "markdown",
   "id": "8aafa10f",
   "metadata": {},
   "source": [
    "Before we begin our analysis, we'll set up our environment by installing necessary libraries and configuring our workspace."
   ]
  },
  {
   "cell_type": "markdown",
   "id": "0f98d24e",
   "metadata": {},
   "source": [
    "### Installing PYroMat"
   ]
  },
  {
   "cell_type": "code",
   "execution_count": 1,
   "id": "f09505f6",
   "metadata": {},
   "outputs": [],
   "source": [
    "# Install PYroMat library for thermodynamic calculations\n",
    "# If running on Google Colab, uncomment the next line to install PYroMat.\n",
    "# !pip install pyromat"
   ]
  },
  {
   "cell_type": "markdown",
   "id": "f1ac4a03",
   "metadata": {},
   "source": [
    "### Importing packages"
   ]
  },
  {
   "cell_type": "markdown",
   "id": "74e39e62",
   "metadata": {},
   "source": [
    "Python libraries for thermodynamics, numerical calculations, data handling, and visualization."
   ]
  },
  {
   "cell_type": "code",
   "execution_count": 2,
   "id": "b432b279",
   "metadata": {},
   "outputs": [],
   "source": [
    "import pyromat as pyro               # Thermodynamic properties\n",
    "import numpy as np                   # Numerical operations\n",
    "import pandas as pd                  # Data manipulation\n",
    "import seaborn as sns                # Data visualization\n",
    "import matplotlib.pyplot as plt      # Plotting graphs\n",
    "import scipy.integrate as integrate  # Numerical integration"
   ]
  },
  {
   "cell_type": "markdown",
   "id": "fd053a92",
   "metadata": {},
   "source": [
    "### Configuring the visualization theme"
   ]
  },
  {
   "cell_type": "markdown",
   "id": "8661e748",
   "metadata": {},
   "source": [
    "We'll use Seaborn to enhance the aesthetics of the plots for better visualization."
   ]
  },
  {
   "cell_type": "code",
   "execution_count": 3,
   "id": "88ca7b07",
   "metadata": {},
   "outputs": [],
   "source": [
    "# Uses seaborn to update matplotlib's run commands (rc) parameters to improve aesthetics\n",
    "\n",
    "sns.set_theme(\n",
    "    context='notebook',\n",
    "    style='darkgrid',\n",
    "    palette='deep',\n",
    "    font='sans-serif',\n",
    "    font_scale=1.2,\n",
    "    color_codes=True\n",
    ")"
   ]
  },
  {
   "cell_type": "markdown",
   "id": "f94fef2e",
   "metadata": {},
   "source": [
    "### Setting SI units in PYroMat"
   ]
  },
  {
   "cell_type": "code",
   "execution_count": 4,
   "id": "204963b8",
   "metadata": {},
   "outputs": [],
   "source": [
    "pyro.config[\"unit_pressure\"] = \"kPa\"\n",
    "pyro.config[\"unit_energy\"]   = \"kJ\"\n",
    "pyro.config[\"unit_matter\"]   = \"kg\""
   ]
  },
  {
   "cell_type": "markdown",
   "id": "f8c6486a-48f3-468a-b9f4-5f3e87744b8f",
   "metadata": {},
   "source": [
    "## Introduction"
   ]
  },
  {
   "cell_type": "markdown",
   "id": "84ce91b4-9aeb-4d72-945c-37f92a30d2b4",
   "metadata": {},
   "source": [
    "The Carnot cycle is a fundamental concept in thermodynamics, proposed by Nicolas Léonard Sadi Carnot in 1824. It represents an idealized heat engine with maximum possible efficiency operating between two temperature reservoirs. Understanding this cycle is crucial for analyzing and designing more practical thermal engines like the Otto and Diesel cycles. In this notebook, we'll explore the Carnot cycle in detail, to aid in designing other thermal engines."
   ]
  },
  {
   "cell_type": "markdown",
   "id": "dc30745c",
   "metadata": {},
   "source": [
    "## Objective"
   ]
  },
  {
   "cell_type": "markdown",
   "id": "c41c6dfa",
   "metadata": {},
   "source": [
    "Our goal is to:\n",
    "\n",
    "- Calculate the thermodynamic properties (pressure, volume, temperature, enthalpy, entropy) at each state of the Carnot cycle using the ideal gas model and PYroMat.\n",
    "- Analyze each process to determine the work done and heat transferred.\n",
    "- Determine the efficiency and net work output of the Carnot cycle.\n",
    "- Visualize the cycle using *P-𝑣*, *T-s*, and other relevant diagrams.\n"
   ]
  },
  {
   "cell_type": "markdown",
   "id": "c204fa29-06d6-4edb-901a-1aa18bc9e8bf",
   "metadata": {},
   "source": [
    "## Understanding the Carnot Cycle"
   ]
  },
  {
   "cell_type": "markdown",
   "id": "SmgJ3TsKwoCd",
   "metadata": {
    "id": "SmgJ3TsKwoCd",
    "tags": []
   },
   "source": [
    "The Carnot cycle consists of four reversible processes involving an ideal gas:\n",
    "\n",
    "1. **Isothermal Expansion (1 $\\to$ 2)**: The gas is compressed isothermally, releasing heat $Q_C$ to a cold reservoir at temperature $T_C$.\n",
    "2. **Adiabatic Expansion (2 $\\to$ 3)**: The gas is compressed without heat exchange, raising its temperature back from $T_C$ to $T_H$.\n",
    "3. **Isothermal Compression (3 $\\to$ 4)**: The gas expands isothermally, absorbing heat $Q_H$ from a hot reservoir at temperature $T_H$. \n",
    "4. **Adiabatic Compression (4 $\\to$ 1)**: The gas continues to expand without exchanging heat, causing its temperature to drop from $T_H$ to $T_C$."
   ]
  },
  {
   "cell_type": "markdown",
   "id": "04f6e2f4",
   "metadata": {},
   "source": [
    "<img src=\"images/c-carnot_cycle.png\" alt=\"Carnot cycle on P–v\" style=\"zoom:30%;\" />"
   ]
  },
  {
   "cell_type": "markdown",
   "id": "e90d4c5f-38b7-4c72-bc45-e89fcd8f79d5",
   "metadata": {
    "tags": []
   },
   "source": [
    "## Problem Statement"
   ]
  },
  {
   "cell_type": "markdown",
   "id": "6bd62401-4542-4569-927a-94a340b3b508",
   "metadata": {
    "id": "SmgJ3TsKwoCd",
    "tags": []
   },
   "source": [
    "We shall analyze a Carnot cycle using **carbon monoxide (CO)** as the working fluid with the following conditions:\n",
    "\n",
    "- Initial state with $T_1 = 300 \\, \\mathrm{K}$ and $P_1 = 100 \\, \\mathrm{kPa}$.\n",
    "- State 3: $T_3 = 500 \\, \\mathrm{K}$ and $P_3 = 2 \\, \\mathrm{MPa}$."
   ]
  },
  {
   "cell_type": "markdown",
   "id": "83375dca-f869-4a56-b9cc-06714886b8a1",
   "metadata": {
    "id": "83375dca-f869-4a56-b9cc-06714886b8a1",
    "tags": []
   },
   "source": [
    "## Working Fluid: Carbon Monoxide\n",
    "\n",
    "To analyze the cycle, we'll retrieve the properties of CO using PYroMat."
   ]
  },
  {
   "cell_type": "markdown",
   "id": "fVZc8vb8dKxK",
   "metadata": {
    "id": "fVZc8vb8dKxK",
    "tags": []
   },
   "source": [
    "### Retrieving CO data"
   ]
  },
  {
   "cell_type": "code",
   "execution_count": 5,
   "id": "2583f113-9a62-4f2c-9e31-8aad7b3bf4a1",
   "metadata": {
    "id": "2583f113-9a62-4f2c-9e31-8aad7b3bf4a1",
    "tags": []
   },
   "outputs": [],
   "source": [
    "# Get CO data as an ideal gas\n",
    "CO = pyro.get('ig.CO')"
   ]
  },
  {
   "cell_type": "markdown",
   "id": "71b96404-e603-4d38-8068-b47b9fe9948f",
   "metadata": {
    "id": "71b96404-e603-4d38-8068-b47b9fe9948f"
   },
   "source": [
    "### Gas Properties"
   ]
  },
  {
   "cell_type": "markdown",
   "id": "b100ab88-2391-4ccb-8cbb-2a8f09b5f9b9",
   "metadata": {
    "id": "b100ab88-2391-4ccb-8cbb-2a8f09b5f9b9"
   },
   "source": [
    "#### Gas Constant"
   ]
  },
  {
   "cell_type": "code",
   "execution_count": 6,
   "id": "1e1cde01-70aa-4294-8ae7-5a9e13b6cd7b",
   "metadata": {
    "colab": {
     "base_uri": "https://localhost:8080/"
    },
    "id": "1e1cde01-70aa-4294-8ae7-5a9e13b6cd7b",
    "outputId": "d3b09fa8-69fa-4c42-c6ed-79ce2c9cd790",
    "tags": []
   },
   "outputs": [
    {
     "name": "stdout",
     "output_type": "stream",
     "text": [
      "Gas constant (R): 0.29683 kJ/(kg·K)\n"
     ]
    }
   ],
   "source": [
    "R = CO.R()  # Retrieve the gas constant for CO\n",
    "print(f'Gas constant (R): {R:.5f} kJ/(kg·K)')"
   ]
  },
  {
   "cell_type": "markdown",
   "id": "3524a055-411c-49ce-91de-8afe78ec0323",
   "metadata": {
    "id": "u6Xkz_hcmZge"
   },
   "source": [
    "#### Specific heat @ constant pressure\n",
    "\n",
    "$c_p$ is used when calculating enthalpy, which is the amount of heat added or removed during isobaric processes:"
   ]
  },
  {
   "cell_type": "code",
   "execution_count": 7,
   "id": "NpLEjEWimZgo",
   "metadata": {
    "colab": {
     "base_uri": "https://localhost:8080/"
    },
    "id": "NpLEjEWimZgo",
    "outputId": "cd6a01c6-b97d-433c-c1a4-645fda73a23a",
    "tags": []
   },
   "outputs": [
    {
     "name": "stdout",
     "output_type": "stream",
     "text": [
      "Specific heat at constant pressure (c𝘱): 1.0404 kJ/(kg·K)\n"
     ]
    }
   ],
   "source": [
    "cp = CO.cp()[0]  # Retrieve specific heat at constant pressure\n",
    "print(f'Specific heat at constant pressure (c𝘱): {cp:.4f} kJ/(kg·K)')"
   ]
  },
  {
   "cell_type": "markdown",
   "id": "c723fb7d-b62f-4c98-8c9e-7dc679de839c",
   "metadata": {
    "id": "9faa6c7a-66e6-463a-a547-96d7aaba94b8"
   },
   "source": [
    "#### Specific heat @ constant volume\n",
    "\n",
    "Similarly, $c_v$ is used to calculate the change in internal energy:"
   ]
  },
  {
   "cell_type": "code",
   "execution_count": 8,
   "id": "1eddf578-a3af-4ecc-a46c-92813e6b4687",
   "metadata": {
    "colab": {
     "base_uri": "https://localhost:8080/"
    },
    "id": "1eddf578-a3af-4ecc-a46c-92813e6b4687",
    "outputId": "6febefbf-3aff-4304-91b0-433f421db600",
    "tags": []
   },
   "outputs": [
    {
     "name": "stdout",
     "output_type": "stream",
     "text": [
      "Specific heat at constant volume (cᵥ): 0.74352 kJ/(kg·K)\n"
     ]
    }
   ],
   "source": [
    "cv = CO.cv()[0]  # Retrieve specific heat at constant volume\n",
    "print(f'Specific heat at constant volume (cᵥ): {cv:.5f} kJ/(kg·K)')"
   ]
  },
  {
   "cell_type": "markdown",
   "id": "d83860c0-4cac-465f-bdfc-6432e6069edc",
   "metadata": {
    "id": "d83860c0-4cac-465f-bdfc-6432e6069edc"
   },
   "source": [
    "#### Ratio of specific heats, $k = \\frac{c_p}{c_v}$\n",
    "\n",
    "This quantity is critical for analyzing adiabatic processes:"
   ]
  },
  {
   "cell_type": "code",
   "execution_count": 9,
   "id": "6af7af1c-bb3e-41c5-8b33-83e29c729636",
   "metadata": {
    "colab": {
     "base_uri": "https://localhost:8080/"
    },
    "id": "6af7af1c-bb3e-41c5-8b33-83e29c729636",
    "outputId": "43e6cf57-51d6-404d-b684-53f85415b92d",
    "tags": []
   },
   "outputs": [
    {
     "name": "stdout",
     "output_type": "stream",
     "text": [
      "Specific heat ratio (𝑘): 1.3992\n"
     ]
    }
   ],
   "source": [
    "k = CO.gam()[0]  # Retrieve the specific heats ratio\n",
    "print(f'Specific heat ratio (𝑘): {k:.4f}')"
   ]
  },
  {
   "cell_type": "markdown",
   "id": "5d90dd9c-d8c2-492e-b1d2-5026196199f0",
   "metadata": {
    "id": "5d90dd9c-d8c2-492e-b1d2-5026196199f0"
   },
   "source": [
    "## State Properties"
   ]
  },
  {
   "cell_type": "markdown",
   "id": "6712bb79-3ab5-4035-b351-ce251bcd1ca0",
   "metadata": {
    "id": "6712bb79-3ab5-4035-b351-ce251bcd1ca0"
   },
   "source": [
    "### State 1: Initial conditions"
   ]
  },
  {
   "cell_type": "markdown",
   "id": "wlWlfpegpjnu",
   "metadata": {
    "id": "wlWlfpegpjnu"
   },
   "source": [
    "#### Temperature"
   ]
  },
  {
   "cell_type": "code",
   "execution_count": 10,
   "id": "1KCLxsyBpjn4",
   "metadata": {
    "colab": {
     "base_uri": "https://localhost:8080/"
    },
    "id": "1KCLxsyBpjn4",
    "outputId": "8622ca62-6df8-4498-a060-deb697a50c10",
    "tags": []
   },
   "outputs": [
    {
     "name": "stdout",
     "output_type": "stream",
     "text": [
      "T₁: 300 K\n"
     ]
    }
   ],
   "source": [
    "T1 = 300  # K\n",
    "print(f'T₁: {T1} K')"
   ]
  },
  {
   "cell_type": "markdown",
   "id": "a880f42f-4f57-4622-adcb-eb4a378f7047",
   "metadata": {
    "id": "a880f42f-4f57-4622-adcb-eb4a378f7047"
   },
   "source": [
    "#### Pressure"
   ]
  },
  {
   "cell_type": "code",
   "execution_count": 11,
   "id": "0167742e-8cd8-48c4-8e12-4c2d74ed4a7a",
   "metadata": {
    "colab": {
     "base_uri": "https://localhost:8080/"
    },
    "id": "0167742e-8cd8-48c4-8e12-4c2d74ed4a7a",
    "outputId": "8d8462dc-fd5f-437a-c614-5848dec01edd",
    "tags": []
   },
   "outputs": [
    {
     "name": "stdout",
     "output_type": "stream",
     "text": [
      "P₁: 100 KPa\n"
     ]
    }
   ],
   "source": [
    "P1 = 100  # kPa\n",
    "print(f'P₁: {P1} KPa')"
   ]
  },
  {
   "cell_type": "markdown",
   "id": "4PE8kBBJJgXf",
   "metadata": {
    "id": "4PE8kBBJJgXf"
   },
   "source": [
    "#### Specific volume\n",
    "\n",
    "Using the ideal gas law:\n",
    "\n",
    "$$ \\upsilon_1 = \\frac{R \\: T_1}{P_1} $$"
   ]
  },
  {
   "cell_type": "code",
   "execution_count": 12,
   "id": "53cb4797",
   "metadata": {},
   "outputs": [
    {
     "name": "stdout",
     "output_type": "stream",
     "text": [
      "𝑣₁: 0.89050 m³/kg\n"
     ]
    }
   ],
   "source": [
    "v1 = R * T1 / P1  # Calculate specific volume using the ideal gas law\n",
    "print(f'𝑣₁: {v1:.5f} m³/kg')"
   ]
  },
  {
   "cell_type": "markdown",
   "id": "f06b360f",
   "metadata": {},
   "source": [
    "#### Internal energy\n",
    "\n",
    "$$ u_1 = c_{\\upsilon} \\cdot T_1 $$\n"
   ]
  },
  {
   "cell_type": "code",
   "execution_count": 13,
   "id": "69f6d669",
   "metadata": {},
   "outputs": [
    {
     "name": "stdout",
     "output_type": "stream",
     "text": [
      "u₁: 223.06 kJ/kg\n"
     ]
    }
   ],
   "source": [
    "u1 = cv * T1  # Calculate internal energy of an ideal gas\n",
    "print(f'u₁: {u1:.2f} kJ/kg')"
   ]
  },
  {
   "cell_type": "markdown",
   "id": "dbed9562",
   "metadata": {},
   "source": [
    "#### Specific enthalpy\n",
    "\n",
    "$$ h_1 = c_p \\cdot T_1 $$"
   ]
  },
  {
   "cell_type": "code",
   "execution_count": 14,
   "id": "b7d43b30",
   "metadata": {},
   "outputs": [
    {
     "name": "stdout",
     "output_type": "stream",
     "text": [
      "h₁: 312.11 kJ/kg\n"
     ]
    }
   ],
   "source": [
    "h1 = cp * T1  # Calculate internal energy of an ideal gas\n",
    "print(f'h₁: {h1:.2f} kJ/kg')"
   ]
  },
  {
   "cell_type": "markdown",
   "id": "6fa94ec4",
   "metadata": {},
   "source": [
    "#### Specific entropy\n",
    "\n",
    "For an ideal gas, entropy needs a reference value, which means we can set\n",
    "\n",
    "$$ s_1 = 0 $$"
   ]
  },
  {
   "cell_type": "code",
   "execution_count": 15,
   "id": "1fca2e4a",
   "metadata": {},
   "outputs": [
    {
     "name": "stdout",
     "output_type": "stream",
     "text": [
      "s₁: 0.0 kJ/(kg·K)\n"
     ]
    }
   ],
   "source": [
    "s1 = 0  # reference value for entropy\n",
    "print(f's₁: {s1:.1f} kJ/(kg·K)')"
   ]
  },
  {
   "cell_type": "markdown",
   "id": "032848e5",
   "metadata": {},
   "source": [
    "### State 3\n",
    "\n",
    "We continue with this state instead of going to State 2, since there is only one unknown property."
   ]
  },
  {
   "cell_type": "markdown",
   "id": "8b3d25ce",
   "metadata": {},
   "source": [
    "#### Temperature\n",
    "\n",
    "This property is already defined in the problem:"
   ]
  },
  {
   "cell_type": "code",
   "execution_count": 16,
   "id": "3e469e77",
   "metadata": {},
   "outputs": [
    {
     "name": "stdout",
     "output_type": "stream",
     "text": [
      "T₃: 500 K\n"
     ]
    }
   ],
   "source": [
    "T3 = 500  # K\n",
    "print(f'T₃: {T3} K')"
   ]
  },
  {
   "cell_type": "markdown",
   "id": "cdc84040",
   "metadata": {},
   "source": [
    "#### Pressure\n",
    "\n",
    "Pressure was also given in the problem statement:\n",
    "\n",
    "$$ P_3 = 2 \\, \\mathrm{MPa} = 2000 \\, \\mathrm{kPa}$$"
   ]
  },
  {
   "cell_type": "code",
   "execution_count": 17,
   "id": "467fd528",
   "metadata": {},
   "outputs": [
    {
     "name": "stdout",
     "output_type": "stream",
     "text": [
      "P₃: 2000 kPa\n"
     ]
    }
   ],
   "source": [
    "P3 = 2000  # kPa\n",
    "print(f'P₃: {P3} kPa')"
   ]
  },
  {
   "cell_type": "markdown",
   "id": "6bdc2ac9",
   "metadata": {},
   "source": [
    "#### Specific volume\n",
    "\n",
    "Using the ideal gas law:\n",
    "\n",
    "$$ \\upsilon_3 = \\frac{R \\: T_3}{P_3} $$"
   ]
  },
  {
   "cell_type": "code",
   "execution_count": 18,
   "id": "3819bf7a",
   "metadata": {},
   "outputs": [
    {
     "name": "stdout",
     "output_type": "stream",
     "text": [
      "𝑣₃: 0.07421 m³/kg\n"
     ]
    }
   ],
   "source": [
    "v3 = R * T3 / P3  # Calculate specific volume using the ideal gas law\n",
    "print(f'𝑣₃: {v3:.5f} m³/kg')"
   ]
  },
  {
   "cell_type": "markdown",
   "id": "7afd01f7",
   "metadata": {},
   "source": [
    "#### Internal energy\n",
    "\n",
    "$$ u_3 = c_{\\upsilon} \\cdot T_3 $$\n"
   ]
  },
  {
   "cell_type": "code",
   "execution_count": 19,
   "id": "ff8224ca",
   "metadata": {},
   "outputs": [
    {
     "name": "stdout",
     "output_type": "stream",
     "text": [
      "u₃: 371.76 kJ/kg\n"
     ]
    }
   ],
   "source": [
    "u3 = cv * T3  # Calculate internal energy of an ideal gas\n",
    "print(f'u₃: {u3:.2f} kJ/kg')"
   ]
  },
  {
   "cell_type": "markdown",
   "id": "efdee4c2",
   "metadata": {},
   "source": [
    "#### Specific enthalpy\n",
    "\n",
    "$$ h_3 = c_p \\cdot T_3 $$"
   ]
  },
  {
   "cell_type": "code",
   "execution_count": 20,
   "id": "5605c1ef",
   "metadata": {},
   "outputs": [
    {
     "name": "stdout",
     "output_type": "stream",
     "text": [
      "h₃: 520.18 kJ/kg\n"
     ]
    }
   ],
   "source": [
    "h3 = cp * T3  # Calculate internal energy of an ideal gas\n",
    "print(f'h₃: {h3:.2f} kJ/kg')"
   ]
  },
  {
   "cell_type": "markdown",
   "id": "acc32630",
   "metadata": {},
   "source": [
    "#### Specific entropy\n",
    "\n",
    "To find the entropy value for each state we can use either\n",
    "\n",
    "$$ s(T,P) = s_\\text{ref} + c_p \\, \\ln \\left( \\frac{T}{T_\\text{ref}} \\right) - R \\, \\ln \\left( \\frac{P}{P_\\text{ref}} \\right) $$\n",
    "\n",
    "or\n",
    "\n",
    "$$ s(T,\\upsilon) = s_\\text{ref} + c_{\\upsilon} \\, \\ln \\left( \\frac{T}{T_\\text{ref}} \\right) + R \\, \\ln \\left( \\frac{\\upsilon}{\\upsilon_\\text{ref}} \\right) $$\n",
    "\n",
    "with\n",
    "\n",
    "$$ s_\\text{ref} = s_1 = 0, \\: \\: T_\\text{ref} = T_1, \\: \\: \\text{and } P_\\text{ref} = P_1 $$"
   ]
  },
  {
   "cell_type": "code",
   "execution_count": 21,
   "id": "74c12cb4",
   "metadata": {},
   "outputs": [
    {
     "name": "stdout",
     "output_type": "stream",
     "text": [
      "s₃: -0.35780 kJ/(kg·K)\n"
     ]
    }
   ],
   "source": [
    "s3 = s1 + cp * np.log(T3/T1) - R * np.log(P3/P1) # entropy for an ideal gas\n",
    "print(f's₃: {s3:.5f} kJ/(kg·K)')"
   ]
  },
  {
   "cell_type": "markdown",
   "id": "381f1042-01aa-424a-8b6f-2338f980f7f3",
   "metadata": {
    "id": "381f1042-01aa-424a-8b6f-2338f980f7f3"
   },
   "source": [
    "### State 2"
   ]
  },
  {
   "cell_type": "markdown",
   "id": "e7971af5-489b-4792-90ea-14ba0cd6e073",
   "metadata": {
    "id": "e7971af5-489b-4792-90ea-14ba0cd6e073"
   },
   "source": [
    "#### Temperature\n",
    "\n",
    "Since process **1 $\\to$ 2** is an **isothermal compression**:\n",
    "\n",
    "$$ T_2 = T_1 $$"
   ]
  },
  {
   "cell_type": "code",
   "execution_count": 22,
   "id": "be673908-c499-4024-a89f-fbc7d2c9ebac",
   "metadata": {
    "colab": {
     "base_uri": "https://localhost:8080/"
    },
    "id": "be673908-c499-4024-a89f-fbc7d2c9ebac",
    "outputId": "eaea89b0-1d73-4304-9d96-ea511c50e023",
    "tags": []
   },
   "outputs": [
    {
     "name": "stdout",
     "output_type": "stream",
     "text": [
      "T₂: 300 K\n"
     ]
    }
   ],
   "source": [
    "T2 = T1\n",
    "print(f'T₂: {T2} K')"
   ]
  },
  {
   "cell_type": "markdown",
   "id": "l3sabdR5MWAx",
   "metadata": {
    "id": "l3sabdR5MWAx"
   },
   "source": [
    "#### Specific volume\n",
    "\n",
    "Knowing that process **2 $\\to$ 3** is an **adiabatic compression**, the specific volume at State 2 can be calculated using the following relationship for adiabatic processes:\n",
    "\n",
    "$$ T_2 \\: \\upsilon^{k-1} _2 = T_3 \\: \\upsilon^{k-1} _3 $$\n",
    "\n",
    "Solving for $\\upsilon_2$:\n",
    "\n",
    "$$ \\upsilon_2 = \\upsilon_3 \\cdot \\Big( \\frac{T_3}{T_2} \\Big)^{\\frac{1}{k-1}} $$"
   ]
  },
  {
   "cell_type": "code",
   "execution_count": 23,
   "id": "35e9b6fa-00ff-40bc-b0c1-4bd7a33a0c80",
   "metadata": {
    "colab": {
     "base_uri": "https://localhost:8080/"
    },
    "id": "35e9b6fa-00ff-40bc-b0c1-4bd7a33a0c80",
    "outputId": "27ca9406-f94b-4ba3-fb62-b75be10ed713",
    "tags": []
   },
   "outputs": [
    {
     "name": "stdout",
     "output_type": "stream",
     "text": [
      "𝑣₂: 0.26678 m³/kg\n"
     ]
    }
   ],
   "source": [
    "v2 = v3 * np.power(T3/T2, 1/(k-1))  # Calculate using the adiabatic relationship\n",
    "\n",
    "print(f'𝑣₂: {v2:.5f} m³/kg')"
   ]
  },
  {
   "cell_type": "markdown",
   "id": "GW3a_ELsM44H",
   "metadata": {
    "id": "GW3a_ELsM44H"
   },
   "source": [
    "#### Pressure\n",
    "\n",
    "Using the ideal gas law:\n",
    "\n",
    "$$ P_2 = \\frac{R \\: T_2}{\\upsilon_2} $$"
   ]
  },
  {
   "cell_type": "code",
   "execution_count": 24,
   "id": "1e72716f-fce7-46f7-abdc-1cfa35ee4a7f",
   "metadata": {
    "colab": {
     "base_uri": "https://localhost:8080/"
    },
    "id": "1e72716f-fce7-46f7-abdc-1cfa35ee4a7f",
    "outputId": "8217d460-15f1-4ac6-edf7-2fc54feebcaa",
    "tags": []
   },
   "outputs": [
    {
     "name": "stdout",
     "output_type": "stream",
     "text": [
      "P₂: 333.80 kPa\n"
     ]
    }
   ],
   "source": [
    "P2 = R * T2 / v2  # Calculate pressure using the ideal gas law\n",
    "print(f'P₂: {P2:.2f} kPa')"
   ]
  },
  {
   "cell_type": "markdown",
   "id": "8b786c00",
   "metadata": {},
   "source": [
    "#### Internal energy\n",
    "\n",
    "$$ u_2 = c_{\\upsilon} \\cdot T_2 $$\n"
   ]
  },
  {
   "cell_type": "code",
   "execution_count": 25,
   "id": "17d78df8",
   "metadata": {},
   "outputs": [
    {
     "name": "stdout",
     "output_type": "stream",
     "text": [
      "u₂: 223.06 kJ/kg\n"
     ]
    }
   ],
   "source": [
    "u2 = cv * T2  # Calculate internal energy of an ideal gas\n",
    "print(f'u₂: {u2:.2f} kJ/kg')"
   ]
  },
  {
   "cell_type": "markdown",
   "id": "730edd77",
   "metadata": {},
   "source": [
    "#### Specific enthalpy\n",
    "\n",
    "$$ h_2 = c_p \\cdot T_2 $$"
   ]
  },
  {
   "cell_type": "code",
   "execution_count": 26,
   "id": "84539916",
   "metadata": {},
   "outputs": [
    {
     "name": "stdout",
     "output_type": "stream",
     "text": [
      "h₂: 312.11 kJ/kg\n"
     ]
    }
   ],
   "source": [
    "h2 = cp * T2  # Calculate internal energy of an ideal gas\n",
    "print(f'h₂: {h2:.2f} kJ/kg')"
   ]
  },
  {
   "cell_type": "markdown",
   "id": "e103c506",
   "metadata": {},
   "source": [
    "#### Specific entropy\n",
    "\n",
    "We will use:\n",
    "\n",
    "$$ s_2 = s_1 + c_p \\, \\ln \\left( \\frac{T_2}{T_1} \\right) - R \\, \\ln \\left( \\frac{P_2}{P_1} \\right) $$"
   ]
  },
  {
   "cell_type": "code",
   "execution_count": 27,
   "id": "8e18e664",
   "metadata": {},
   "outputs": [
    {
     "name": "stdout",
     "output_type": "stream",
     "text": [
      "s₂: -0.35780 kJ/(kg·K)\n"
     ]
    }
   ],
   "source": [
    "s2 = s1 + cp * np.log(T2/T1) - R * np.log(P2/P1) # entropy for an ideal gas\n",
    "print(f's₂: {s2:.5f} kJ/(kg·K)')"
   ]
  },
  {
   "cell_type": "markdown",
   "id": "35eddd3b-3859-4cf9-a507-845b2eac95a0",
   "metadata": {
    "id": "35eddd3b-3859-4cf9-a507-845b2eac95a0"
   },
   "source": [
    "### State 4"
   ]
  },
  {
   "cell_type": "markdown",
   "id": "d39d3aca-57cd-45ee-a1fd-743bb592a8c7",
   "metadata": {
    "id": "d39d3aca-57cd-45ee-a1fd-743bb592a8c7"
   },
   "source": [
    "#### Temperature\n",
    "\n",
    "This is the final state of the **isothermal expansion** that started at state 3, which means:\n",
    "\n",
    "$$ T_4 = T_3 $$"
   ]
  },
  {
   "cell_type": "code",
   "execution_count": 28,
   "id": "8dd4c39b-5ca8-4cc9-88dd-9a6b598951e9",
   "metadata": {
    "colab": {
     "base_uri": "https://localhost:8080/"
    },
    "id": "8dd4c39b-5ca8-4cc9-88dd-9a6b598951e9",
    "outputId": "f5cd8b4d-21c5-48ee-80b9-cc7532ecc567",
    "tags": []
   },
   "outputs": [
    {
     "name": "stdout",
     "output_type": "stream",
     "text": [
      "T₄: 500 K\n"
     ]
    }
   ],
   "source": [
    "T4 = T3\n",
    "print(f'T₄: {T4} K')"
   ]
  },
  {
   "cell_type": "markdown",
   "id": "_3WeGCrvUFhr",
   "metadata": {
    "id": "_3WeGCrvUFhr"
   },
   "source": [
    "#### Specific volume\n",
    "\n",
    "Process **4 $\\to$ 1** is an **adiabatic expansion**, which allow us to use the adiabatic relationship:\n",
    "\n",
    "$$ T_4 \\: \\upsilon^{k-1} _4 = T_1 \\: \\upsilon^{k-1} _1 $$\n",
    "\n",
    "Solving for $\\upsilon_4$:\n",
    "\n",
    "$$ \\upsilon_4 = \\upsilon_1 \\cdot \\Big( \\frac{T_1}{T_4} \\Big)^{\\frac{1}{k-1}} $$"
   ]
  },
  {
   "cell_type": "code",
   "execution_count": 29,
   "id": "770d5f90-c08b-461e-8c93-61ef65e26def",
   "metadata": {
    "colab": {
     "base_uri": "https://localhost:8080/"
    },
    "id": "770d5f90-c08b-461e-8c93-61ef65e26def",
    "outputId": "aec68597-b233-4b71-e55d-e0efcf2ee86d",
    "tags": []
   },
   "outputs": [
    {
     "name": "stdout",
     "output_type": "stream",
     "text": [
      "𝑣₄: 0.24771 m³/kg\n"
     ]
    }
   ],
   "source": [
    "v4 = v1 * np.power(T1/T4, 1/(k-1))  # Calculate v4 using the adiabatic relationship\n",
    "print(f'𝑣₄: {v4:.5f} m³/kg')"
   ]
  },
  {
   "cell_type": "markdown",
   "id": "YiG5Gy3gXF0J",
   "metadata": {
    "id": "YiG5Gy3gXF0J"
   },
   "source": [
    "#### Pressure\n",
    "\n",
    "Using the ideal gas model:\n",
    "\n",
    "$$ P_4 = \\frac{R \\: T_4}{\\upsilon_4} $$"
   ]
  },
  {
   "cell_type": "code",
   "execution_count": 30,
   "id": "ca53220e-4b20-4b2b-a065-1275282dc68b",
   "metadata": {
    "colab": {
     "base_uri": "https://localhost:8080/"
    },
    "id": "ca53220e-4b20-4b2b-a065-1275282dc68b",
    "outputId": "eb03771b-ba32-4d4d-e266-4e65198e7efb",
    "tags": []
   },
   "outputs": [
    {
     "name": "stdout",
     "output_type": "stream",
     "text": [
      "P₄: 599.16 kPa\n"
     ]
    }
   ],
   "source": [
    "P4 = R * T4 / v4  # Calculate pressure using the ideal gas law\n",
    "print(f'P₄: {P4:.2f} kPa')"
   ]
  },
  {
   "cell_type": "markdown",
   "id": "2f5dfb1e",
   "metadata": {},
   "source": [
    "#### Internal energy\n",
    "\n",
    "$$ u_4 = c_{\\upsilon} \\cdot T_4 $$\n"
   ]
  },
  {
   "cell_type": "code",
   "execution_count": 31,
   "id": "be92aa04",
   "metadata": {},
   "outputs": [
    {
     "name": "stdout",
     "output_type": "stream",
     "text": [
      "u₄: 371.76 kJ/kg\n"
     ]
    }
   ],
   "source": [
    "u4 = cv * T4  # Calculate internal energy of an ideal gas\n",
    "print(f'u₄: {u4:.2f} kJ/kg')"
   ]
  },
  {
   "cell_type": "markdown",
   "id": "43daaeb2",
   "metadata": {},
   "source": [
    "#### Specific enthalpy\n",
    "\n",
    "$$ h_4 = c_p \\cdot T_4 $$"
   ]
  },
  {
   "cell_type": "code",
   "execution_count": 32,
   "id": "2f8c4821",
   "metadata": {},
   "outputs": [
    {
     "name": "stdout",
     "output_type": "stream",
     "text": [
      "h₄: 520.18 kJ/kg\n"
     ]
    }
   ],
   "source": [
    "h4 = cp * T4  # Calculate internal energy of an ideal gas\n",
    "print(f'h₄: {h4:.2f} kJ/kg')"
   ]
  },
  {
   "cell_type": "markdown",
   "id": "10ab8baa",
   "metadata": {},
   "source": [
    "#### Specific entropy\n",
    "\n",
    "$$ s_4 = s_1 + c_p \\, \\ln \\left( \\frac{T_4}{T_1} \\right) - R \\, \\ln \\left( \\frac{P_4}{P_1} \\right) $$"
   ]
  },
  {
   "cell_type": "code",
   "execution_count": 33,
   "id": "1b485c02",
   "metadata": {},
   "outputs": [
    {
     "name": "stdout",
     "output_type": "stream",
     "text": [
      "s₄: 0.0 kJ/(kg·K)\n"
     ]
    }
   ],
   "source": [
    "s4 = s1 + cp * np.log(T4/T1) - R * np.log(P4/P1) # entropy for an ideal gas\n",
    "print(f's₄: {s4:.1f} kJ/(kg·K)')"
   ]
  },
  {
   "cell_type": "markdown",
   "id": "ee811029-7b03-4844-aac3-bce165c0614d",
   "metadata": {
    "id": "ee811029-7b03-4844-aac3-bce165c0614d"
   },
   "source": [
    "### Summarizing State Properties"
   ]
  },
  {
   "cell_type": "markdown",
   "id": "e2657555-08bd-4730-942d-8855c2669b46",
   "metadata": {
    "id": "ee811029-7b03-4844-aac3-bce165c0614d"
   },
   "source": [
    "Here is a summary of the key thermodynamic properties at each relevant state of the Carnot cycle."
   ]
  },
  {
   "cell_type": "code",
   "execution_count": 34,
   "id": "5283bef7",
   "metadata": {},
   "outputs": [
    {
     "data": {
      "text/html": [
       "<style type=\"text/css\">\n",
       "</style>\n",
       "<table id=\"T_661ce\">\n",
       "  <caption>Carnot Cycle State Properties (CO, ideal)</caption>\n",
       "  <thead>\n",
       "    <tr>\n",
       "      <th class=\"blank level0\" >&nbsp;</th>\n",
       "      <th id=\"T_661ce_level0_col0\" class=\"col_heading level0 col0\" >P (kPa)</th>\n",
       "      <th id=\"T_661ce_level0_col1\" class=\"col_heading level0 col1\" >v (m³/kg)</th>\n",
       "      <th id=\"T_661ce_level0_col2\" class=\"col_heading level0 col2\" >T (K)</th>\n",
       "      <th id=\"T_661ce_level0_col3\" class=\"col_heading level0 col3\" >u (kJ/kg)</th>\n",
       "      <th id=\"T_661ce_level0_col4\" class=\"col_heading level0 col4\" >h (kJ/kg)</th>\n",
       "      <th id=\"T_661ce_level0_col5\" class=\"col_heading level0 col5\" >s (kJ/(kg·K))</th>\n",
       "    </tr>\n",
       "    <tr>\n",
       "      <th class=\"index_name level0\" >State</th>\n",
       "      <th class=\"blank col0\" >&nbsp;</th>\n",
       "      <th class=\"blank col1\" >&nbsp;</th>\n",
       "      <th class=\"blank col2\" >&nbsp;</th>\n",
       "      <th class=\"blank col3\" >&nbsp;</th>\n",
       "      <th class=\"blank col4\" >&nbsp;</th>\n",
       "      <th class=\"blank col5\" >&nbsp;</th>\n",
       "    </tr>\n",
       "  </thead>\n",
       "  <tbody>\n",
       "    <tr>\n",
       "      <th id=\"T_661ce_level0_row0\" class=\"row_heading level0 row0\" >1</th>\n",
       "      <td id=\"T_661ce_row0_col0\" class=\"data row0 col0\" >100.0</td>\n",
       "      <td id=\"T_661ce_row0_col1\" class=\"data row0 col1\" >0.89050</td>\n",
       "      <td id=\"T_661ce_row0_col2\" class=\"data row0 col2\" >300.0</td>\n",
       "      <td id=\"T_661ce_row0_col3\" class=\"data row0 col3\" >223.06</td>\n",
       "      <td id=\"T_661ce_row0_col4\" class=\"data row0 col4\" >312.11</td>\n",
       "      <td id=\"T_661ce_row0_col5\" class=\"data row0 col5\" >0.00000</td>\n",
       "    </tr>\n",
       "    <tr>\n",
       "      <th id=\"T_661ce_level0_row1\" class=\"row_heading level0 row1\" >2</th>\n",
       "      <td id=\"T_661ce_row1_col0\" class=\"data row1 col0\" >333.8</td>\n",
       "      <td id=\"T_661ce_row1_col1\" class=\"data row1 col1\" >0.26678</td>\n",
       "      <td id=\"T_661ce_row1_col2\" class=\"data row1 col2\" >300.0</td>\n",
       "      <td id=\"T_661ce_row1_col3\" class=\"data row1 col3\" >223.06</td>\n",
       "      <td id=\"T_661ce_row1_col4\" class=\"data row1 col4\" >312.11</td>\n",
       "      <td id=\"T_661ce_row1_col5\" class=\"data row1 col5\" >-0.35780</td>\n",
       "    </tr>\n",
       "    <tr>\n",
       "      <th id=\"T_661ce_level0_row2\" class=\"row_heading level0 row2\" >3</th>\n",
       "      <td id=\"T_661ce_row2_col0\" class=\"data row2 col0\" >2,000.0</td>\n",
       "      <td id=\"T_661ce_row2_col1\" class=\"data row2 col1\" >0.07421</td>\n",
       "      <td id=\"T_661ce_row2_col2\" class=\"data row2 col2\" >500.0</td>\n",
       "      <td id=\"T_661ce_row2_col3\" class=\"data row2 col3\" >371.76</td>\n",
       "      <td id=\"T_661ce_row2_col4\" class=\"data row2 col4\" >520.18</td>\n",
       "      <td id=\"T_661ce_row2_col5\" class=\"data row2 col5\" >-0.35780</td>\n",
       "    </tr>\n",
       "    <tr>\n",
       "      <th id=\"T_661ce_level0_row3\" class=\"row_heading level0 row3\" >4</th>\n",
       "      <td id=\"T_661ce_row3_col0\" class=\"data row3 col0\" >599.2</td>\n",
       "      <td id=\"T_661ce_row3_col1\" class=\"data row3 col1\" >0.24771</td>\n",
       "      <td id=\"T_661ce_row3_col2\" class=\"data row3 col2\" >500.0</td>\n",
       "      <td id=\"T_661ce_row3_col3\" class=\"data row3 col3\" >371.76</td>\n",
       "      <td id=\"T_661ce_row3_col4\" class=\"data row3 col4\" >520.18</td>\n",
       "      <td id=\"T_661ce_row3_col5\" class=\"data row3 col5\" >0.00000</td>\n",
       "    </tr>\n",
       "  </tbody>\n",
       "</table>\n"
      ],
      "text/plain": [
       "<pandas.io.formats.style.Styler at 0x1254acc20>"
      ]
     },
     "execution_count": 34,
     "metadata": {},
     "output_type": "execute_result"
    }
   ],
   "source": [
    "states = {\n",
    "    1: {\"P (kPa)\": P1, \"v (m³/kg)\": v1, \"T (K)\": T1, \"u (kJ/kg)\": u1, \"h (kJ/kg)\": h1, \"s (kJ/(kg·K))\": s1},\n",
    "    2: {\"P (kPa)\": P2, \"v (m³/kg)\": v2, \"T (K)\": T2, \"u (kJ/kg)\": u2, \"h (kJ/kg)\": h2, \"s (kJ/(kg·K))\": s2},\n",
    "    3: {\"P (kPa)\": P3, \"v (m³/kg)\": v3, \"T (K)\": T3, \"u (kJ/kg)\": u3, \"h (kJ/kg)\": h3, \"s (kJ/(kg·K))\": s3},\n",
    "    4: {\"P (kPa)\": P4, \"v (m³/kg)\": v4, \"T (K)\": T4, \"u (kJ/kg)\": u4, \"h (kJ/kg)\": h4, \"s (kJ/(kg·K))\": s4}\n",
    "}\n",
    "\n",
    "carnot_states = (\n",
    "    pd.DataFrame.from_dict(states, orient=\"index\")\n",
    "      .rename_axis(\"State\")\n",
    "      .sort_index()\n",
    ")\n",
    "\n",
    "# Nice-looking styled view in Jupyter (won’t affect exports)\n",
    "styled = (carnot_states\n",
    "          .style\n",
    "          .format({\"P (kPa)\": \"{:,.1f}\", \"v (m³/kg)\": \"{:,.5f}\", \"T (K)\": \"{:,.1f}\", \"u (kJ/kg)\": \"{:,.2f}\", \"h (kJ/kg)\": \"{:,.2f}\", \"s (kJ/(kg·K))\": \"{:,.5f}\"})\n",
    "          .set_caption(\"Carnot Cycle State Properties (CO, ideal)\"))\n",
    "styled"
   ]
  },
  {
   "cell_type": "markdown",
   "id": "2a9e60be",
   "metadata": {},
   "source": [
    "### Carnot Engine\n",
    "\n",
    "<img src=\"images/carnot_cycle-2.png\" alt=\"Carnot cycle on P–v\" style=\"zoom:30%;\" />"
   ]
  },
  {
   "cell_type": "markdown",
   "id": "365959f4",
   "metadata": {},
   "source": [
    "## Thermodynamic Diagrams"
   ]
  },
  {
   "cell_type": "markdown",
   "id": "4655a6f2",
   "metadata": {},
   "source": [
    "### Functions to Create the Arrays for the Diagrams"
   ]
  },
  {
   "cell_type": "markdown",
   "id": "5f38c8ff",
   "metadata": {},
   "source": [
    "#### Isothermal process function\n",
    "\n",
    "Let's assume a process that ocurrs between two states at constant temperature. We will define what the arrays would look like for an isothermal process:\n",
    "\n",
    "\n",
    "- **Temperature (`T_array`)**: Remains unchanged, so it will be an array filled with constant temperature value `T_const`.\n",
    "\n",
    "- **Specific volume (`v_array`)**: Changes from values `v_start` to `v_end`.\n",
    "\n",
    "- **Pressure (`P_array`)**: Changes as specific volume changes, calculated using the ideal gas law: $P = \\frac{R \\, T_\\text{const}}{\\upsilon}$.\n",
    "\n",
    "- **Enthalpy (`h_array`)**: will have a constant value $h = c_p \\, T_\\text{const}$.\n",
    "\n",
    "- **Entropy (`s_array`)**: Varies following $s = s_\\text{ref} + c_p \\, \\ln \\left(\\frac{T}{T_\\text{ref}} \\right) - R \\, \\ln \\left( \\frac{P}{P_\\text{ref}} \\right)$\n",
    "\n",
    "#### Code for the Arrays\n",
    "\n",
    "The next code cell defines a function to model isothermal processes."
   ]
  },
  {
   "cell_type": "code",
   "execution_count": 35,
   "id": "ce81fc1d",
   "metadata": {},
   "outputs": [],
   "source": [
    "# Defines a function to model isothermal processes\n",
    "\n",
    "def isothermal_process(R, cp, T_ref, P_ref, s_ref, T_const, v_start, v_end, points):\n",
    "    \n",
    "    \"\"\"\n",
    "    Parameters:\n",
    "    \n",
    "    - R: Specific gas constant of the gas\n",
    "    \n",
    "    - cp, T_ref, P_ref, s_ref: Reference properties for enthalpy and entropy calculations\n",
    "\n",
    "    - T_const: Constant temperature during the process\n",
    "    \n",
    "    - v_start: Initial specific volume\n",
    "    - v_end: Final specific volume\n",
    "    \n",
    "    - points: Number of data points to generate.\n",
    "\n",
    "    Returns:\n",
    "\n",
    "    - Arrays for Temperature (T_array), Specific Volume (v_array), Pressure (P_array),\n",
    "      Enthalpy (h_array), and Entropy (s_array)\n",
    "    \"\"\"\n",
    "\n",
    "    # Creates an array filled with the constant temperature value T_const\n",
    "    T_array = np.full(points, T_const)\n",
    "\n",
    "    # Volume array\n",
    "    v_array = np.linspace(v_start, v_end, points)\n",
    "\n",
    "    # Pressure array, calculated using the ideal gas model\n",
    "    P_array = R * T_array / v_array\n",
    "\n",
    "    # Enthalpy array filled with the constant value cp * T_const\n",
    "    h_array = np.full(points, cp * T_const)\n",
    "\n",
    "    # Entropy array\n",
    "    s_array = s_ref + cp * np.log(T_array/T_ref) - R * np.log(P_array/P_ref)\n",
    "\n",
    "    return T_array, v_array, P_array, h_array, s_array"
   ]
  },
  {
   "cell_type": "markdown",
   "id": "10abf980",
   "metadata": {},
   "source": [
    "#### Adiabatic process function\n",
    "\n",
    "Here we will define what the arrays would look like for an adiabatic process:\n",
    "\n",
    "- **Specific volume (`v_array`)**: Changes from values `v_start` to `v_end`.\n",
    "\n",
    "- **Pressure (`P_array`)**: Calculated with the adiabatic relationship $P = P_\\text{start} \\, \\Big( \\frac{\\upsilon_\\text{start}}{\\upsilon} \\Big)^k$\n",
    "\n",
    "- **Temperature (`T_array`)**: Calculated using the ideal gas law: $T = \\frac{P \\, \\upsilon}{R}$.\n",
    "\n",
    "- **Enthalpy (`h_array`)**: Changes linearly with temperature, according to $h = c_p \\, T$.\n",
    "\n",
    "- **Entropy (`s_array`)**: Varies following $s = s_\\text{ref} + c_p \\, \\ln \\left(\\frac{T}{T_\\text{ref}} \\right) - R \\, \\ln \\left( \\frac{P}{P_\\text{ref}} \\right)$\n",
    "\n",
    "#### Code for the Arrays\n",
    "\n",
    "The next code cell defines a function to model adiabatic processes."
   ]
  },
  {
   "cell_type": "code",
   "execution_count": 36,
   "id": "05c37368",
   "metadata": {},
   "outputs": [],
   "source": [
    "# Defines a function to model adiabatic processes\n",
    "\n",
    "def adiabatic_process(R, k, cp, T_ref, P_ref, s_ref, P_start, v_start, v_end, points):\n",
    "    \n",
    "    \"\"\"\n",
    "    Parameters:\n",
    "    \n",
    "    - R: Specific gas constant of the gas\n",
    "\n",
    "    - k: Ratio of specific heats (c_p / c_v)\n",
    "\n",
    "    - cp, T_ref, P_ref, s_ref: Reference properties for enthalpy and entropy calculations\n",
    "\n",
    "    - P_start: Initial pressure\n",
    "\n",
    "    - v_start: Initial specific volume\n",
    "    - v_end: Final specific volume\n",
    "    \n",
    "    - points: Number of data points to generate.\n",
    "\n",
    "    Returns:\n",
    "\n",
    "    - Arrays for Temperature (T_array), Specific Volume (v_array), Pressure (P_array),\n",
    "      Enthalpy (h_array), and Entropy (s_array).\n",
    "    \"\"\"\n",
    "\n",
    "    # Volume array\n",
    "    v_array = np.linspace(v_start, v_end, points)\n",
    "\n",
    "    # Pressure array calculated adiabatically: P·v^k = c\n",
    "    P_array = P_start * np.power(v_start/v_array, k)\n",
    "\n",
    "    # Temperature array using the ideal gas law\n",
    "    T_array = P_array * v_array / R\n",
    "\n",
    "    # Enthalpy array\n",
    "    h_array = cp * T_array\n",
    "\n",
    "    # Entropy array\n",
    "    s_array = s_ref + cp * np.log(T_array/T_ref) - R * np.log(P_array/P_ref)\n",
    "\n",
    "    return T_array, v_array, P_array, h_array, s_array"
   ]
  },
  {
   "cell_type": "markdown",
   "id": "3693b89f",
   "metadata": {},
   "source": [
    "### Simulating Processes"
   ]
  },
  {
   "cell_type": "markdown",
   "id": "1fc911de",
   "metadata": {},
   "source": [
    "#### Number of data points for the arrays"
   ]
  },
  {
   "cell_type": "code",
   "execution_count": 37,
   "id": "d31f28f2",
   "metadata": {},
   "outputs": [],
   "source": [
    "points = 1000  # Number of points"
   ]
  },
  {
   "cell_type": "markdown",
   "id": "7d7a763f",
   "metadata": {},
   "source": [
    "#### Process 1 → 2: Isothermal compression\n",
    "\n",
    "To visualize it, we create the arrays of temperature, volume, pressure, enthalpy, and entropy throughout the process. We'll generate these arrays using the `isothermal_process` function.\n",
    "\n",
    "- **Temperature (T)** remains constant at $T_\\text{const} = T_1$.\n",
    "- **Specific volume ($\\upsilon$)** reduces from $\\upsilon_\\text{start} = \\upsilon_1$ to $\\upsilon_\\text{end} = \\upsilon_2$.\n",
    "- **Pressure (P)** increases according to $P = \\frac{R \\, T_\\text{const}}{\\upsilon}$.\n",
    "- **Enthalpy (h)** remains constant at $h = c_p \\, T_\\text{const}$."
   ]
  },
  {
   "cell_type": "code",
   "execution_count": 38,
   "id": "039cd6e8",
   "metadata": {},
   "outputs": [],
   "source": [
    "# Simulate the isothermal compression from state 1 to state 2\n",
    "T12, v12, P12, h12, s12 = isothermal_process(\n",
    "    R       = R,\n",
    "    cp      = cp,\n",
    "    T_ref   = T1,\n",
    "    P_ref   = P1,\n",
    "    s_ref   = s1,\n",
    "    T_const = T1,\n",
    "    v_start = v1,\n",
    "    v_end   = v2,\n",
    "    points  = points\n",
    ")"
   ]
  },
  {
   "cell_type": "markdown",
   "id": "9f6620ea",
   "metadata": {},
   "source": [
    "#### Process 2 → 3: Adiabatic compression\n",
    "\n",
    "In this process:\n",
    "- **Specific Volume:** Diminishes from $\\upsilon_\\text{start} = \\upsilon_2$ to $\\upsilon_\\text{end} = \\upsilon_3$. \n",
    "- **Pressure (P):** Calculated using $P = P_\\text{start} \\, \\left( \\frac{\\upsilon_\\text{start}}{v} \\right)^k$.\n",
    "- **Temperature (T):** Calculated using the ideal gas law $T = \\frac{P \\, \\upsilon}{R}$.\n",
    "- **Entropy (s):** Should be constant during this process."
   ]
  },
  {
   "cell_type": "code",
   "execution_count": 39,
   "id": "4f9a42da",
   "metadata": {},
   "outputs": [],
   "source": [
    "# Simulate the adiabatic compression from state 2 to state 3\n",
    "T23, v23, P23, h23, s23 = adiabatic_process(\n",
    "    R       = R,\n",
    "    k       = k,\n",
    "    cp      = cp,\n",
    "    T_ref   = T1,\n",
    "    P_ref   = P1,\n",
    "    s_ref   = s1,\n",
    "    P_start = P2,\n",
    "    v_start = v2,\n",
    "    v_end   = v3,\n",
    "    points  = points\n",
    ")"
   ]
  },
  {
   "cell_type": "markdown",
   "id": "f28f5f26",
   "metadata": {},
   "source": [
    "#### Process 3 → 4: Isothermal expansion"
   ]
  },
  {
   "cell_type": "code",
   "execution_count": 40,
   "id": "b908efb2",
   "metadata": {},
   "outputs": [],
   "source": [
    "# Simulate the isothermal expansion from state 3 to state 4\n",
    "T34, v34, P34, h34, s34 = isothermal_process(\n",
    "    R       = R,\n",
    "    cp      = cp,\n",
    "    T_ref   = T1,\n",
    "    P_ref   = P1,\n",
    "    s_ref   = s1,\n",
    "    T_const = T3,\n",
    "    v_start = v3,\n",
    "    v_end   = v4,\n",
    "    points  = points\n",
    ")"
   ]
  },
  {
   "cell_type": "markdown",
   "id": "f2a1c061",
   "metadata": {},
   "source": [
    "#### Process 4 → 1: Adiabatic expansion"
   ]
  },
  {
   "cell_type": "code",
   "execution_count": 41,
   "id": "36bf1466",
   "metadata": {},
   "outputs": [],
   "source": [
    "# Simulate the adiabatic expansion from state 4 to state 1\n",
    "T41, v41, P41, h41, s41 = adiabatic_process(\n",
    "    R       = R,\n",
    "    k       = k,\n",
    "    cp      = cp,\n",
    "    T_ref   = T1,\n",
    "    P_ref   = P1,\n",
    "    s_ref   = s1,\n",
    "    P_start = P4,\n",
    "    v_start = v4,\n",
    "    v_end   = v1,\n",
    "    points  = points\n",
    ")"
   ]
  },
  {
   "cell_type": "markdown",
   "id": "d77d8f9d",
   "metadata": {},
   "source": [
    "### $P-\\upsilon$ Diagrams"
   ]
  },
  {
   "cell_type": "markdown",
   "id": "dd346774",
   "metadata": {},
   "source": [
    "The following plot represents the Carnot cycle on a **P-$\\upsilon$ linear scale**."
   ]
  },
  {
   "cell_type": "code",
   "execution_count": 42,
   "id": "dc97bea5",
   "metadata": {},
   "outputs": [
    {
     "data": {
      "image/png": "[encoded data removed]",
      "text/plain": [
       "<Figure size 2000x1000 with 1 Axes>"
      ]
     },
     "metadata": {},
     "output_type": "display_data"
    }
   ],
   "source": [
    "fig, ax = plt.subplots(figsize=(20, 10))\n",
    "\n",
    "# Title\n",
    "ax.set_title(r'Carnot Engine · CO (ideal)')\n",
    "\n",
    "# Swithing to logarithmic axis scales \n",
    "#ax.set_xscale('log')\n",
    "#ax.set_yscale('log')\n",
    "\n",
    "# State markers\n",
    "ax.plot([v1, v2], [P1, P2], 'bo', markersize=10)  # States 1-2\n",
    "ax.plot([v3, v4], [P3, P4], 'ro', markersize=10)  # States 3-4\n",
    "\n",
    "# State annotations\n",
    "ax.annotate('1', xy=(v1, P1), xytext=(v1, P1*1.3), fontsize=14, ha='center')   # State 1\n",
    "ax.annotate('2', xy=(v2, P2), xytext=(v2, P2*0.8), fontsize=14, ha='center')   # State 2\n",
    "ax.annotate('3', xy=(v3, P3), xytext=(v3, P3*1.02), fontsize=14, ha='center')  # State 3\n",
    "ax.annotate('4', xy=(v4, P4), xytext=(v4, P4*1.05), fontsize=14, ha='center')  # State 4\n",
    "\n",
    "# Process curves\n",
    "ax.plot(v12, P12, 'b-', linewidth=2, label=r'1-2 Isothermal $T=T_c$')  # 1➛2: Isothermal\n",
    "ax.plot(v23, P23, 'g-', linewidth=2, label= '2-3 Adiabatic')           # 2➛3: Adiabatic\n",
    "ax.plot(v34, P34, 'r-', linewidth=2, label=r'3-4 Isothermal $T=T_H$')  # 3➛4: Isothermal\n",
    "ax.plot(v41, P41, 'g-', linewidth=2, label= '4-1 Adiabatic')           # 4➛1: Adiabatic\n",
    "\n",
    "# Axis labels\n",
    "ax.set_ylabel('Pressure (kPa)')\n",
    "ax.set_xlabel(r'specific volume $\\left(\\frac{m^3}{kg}\\right)$')\n",
    "\n",
    "# Legend\n",
    "ax.grid(True)                # Enable grid\n",
    "ax.legend(loc='upper right') # Show legend and adjusts its position to minimize overlap\n",
    "\n",
    "plt.show()"
   ]
  },
  {
   "cell_type": "markdown",
   "id": "3a057578",
   "metadata": {},
   "source": [
    "### $T-\\upsilon$ Diagram"
   ]
  },
  {
   "cell_type": "code",
   "execution_count": 43,
   "id": "2001ed60",
   "metadata": {},
   "outputs": [
    {
     "data": {
      "image/png": "[encoded data removed]",
      "text/plain": [
       "<Figure size 2000x1000 with 1 Axes>"
      ]
     },
     "metadata": {},
     "output_type": "display_data"
    }
   ],
   "source": [
    "fig, ax = plt.subplots(figsize=(20, 10))\n",
    "\n",
    "# Title\n",
    "ax.set_title('Carnot Engine · CO (ideal)')\n",
    "\n",
    "# State markers\n",
    "ax.plot([v1, v2], [T1, T2], 'ro', markersize=10)  # States 1-2\n",
    "ax.plot([v3, v4], [T3, T4], 'bo', markersize=10)  # States 3-4\n",
    "\n",
    "# State annotations\n",
    "ax.annotate('1', xy=(v1, T1), xytext=(v1, T1*1.01), fontsize=14, ha='center')   # State 1\n",
    "ax.annotate('2', xy=(v2, T2), xytext=(v2, T2*1.01), fontsize=14, ha='center')   # State 2\n",
    "ax.annotate('3', xy=(v3, T3), xytext=(v3, T3*1.007), fontsize=14, ha='center')  # State 3\n",
    "ax.annotate('4', xy=(v4, T4), xytext=(v4, T4*1.007), fontsize=14, ha='center')  # State 4\n",
    "\n",
    "# Process curves\n",
    "ax.plot(v12, T12, 'r-', linewidth=2, label=r'1-2 Isothermal $T=T_c$')  # 1➛2: Isothermal\n",
    "ax.plot(v23, T23, 'g-', linewidth=2, label= '2-3 Adiabatic')           # 2➛3: Adiabatic\n",
    "ax.plot(v34, T34, 'b-', linewidth=2, label=r'3-4 Isothermal $T=T_H$')  # 3➛4: Isothermal\n",
    "ax.plot(v41, T41, 'g-', linewidth=2, label= '4-1 Adiabatic')           # 4➛1: Adiabatic\n",
    "\n",
    "# Axis labels and formatting\n",
    "ax.set_ylabel('Temperature (K)')\n",
    "ax.set_xlabel(r'specific volume $\\left( \\mathrm{\\frac{m^3}{kg}} \\right)$')\n",
    "\n",
    "ax.grid(True) # Enable grid for better readability\n",
    "ax.legend()   # Display legend to identify processes\n",
    "\n",
    "plt.show()"
   ]
  },
  {
   "cell_type": "markdown",
   "id": "730926c3",
   "metadata": {},
   "source": [
    "### $T-s$ Diagram"
   ]
  },
  {
   "cell_type": "code",
   "execution_count": 44,
   "id": "16da28bf",
   "metadata": {},
   "outputs": [
    {
     "data": {
      "image/png": "[encoded data removed]",
      "text/plain": [
       "<Figure size 2000x1000 with 1 Axes>"
      ]
     },
     "metadata": {},
     "output_type": "display_data"
    }
   ],
   "source": [
    "fig, ax = plt.subplots(figsize=(20,10))\n",
    "\n",
    "# Title\n",
    "ax.set_title('Carnot Engine · CO (ideal)')\n",
    "\n",
    "# State markers\n",
    "ax.plot([s1, s2], [T1, T2], 'ro', markersize=10)  # States 1-2\n",
    "ax.plot([s3, s4], [T3, T4], 'bo', markersize=10)  # States 3-4\n",
    "\n",
    "# State annotations\n",
    "ax.annotate('1', xy=(s1, T1), xytext=(s1, T1*0.975), fontsize=14, ha='center')  # State 1\n",
    "ax.annotate('2', xy=(s2, T2), xytext=(s2, T2*0.975), fontsize=14, ha='center')  # State 2\n",
    "ax.annotate('3', xy=(s3, T3), xytext=(s3, T3*1.007), fontsize=14, ha='center')  # State 3\n",
    "ax.annotate('4', xy=(s4, T4), xytext=(s4, T4*1.007), fontsize=14, ha='center')  # State 4\n",
    "\n",
    "# Process curves\n",
    "ax.plot(s12, T12, 'r-', linewidth=2, label=r'1-2 Isothermal $T=T_h$')  # 1➛2: Isothermal\n",
    "ax.plot(s23, T23, 'g-', linewidth=2, label= '2-3 Adiabatic')           # 2➛3: Adiabatic\n",
    "ax.plot(s34, T34, 'b-', linewidth=2, label=r'3-4 Isothermal $T=T_c$')  # 3➛4: Isothermal\n",
    "ax.plot(s41, T41, 'g-', linewidth=2, label= '4-1 Adiabatic')           # 4➛1: Adiabatic\n",
    "\n",
    "# Axis labels\n",
    "ax.set_ylabel('Temperature (K)')\n",
    "ax.set_xlabel(r'specific entropy $\\left( \\mathrm{\\frac{kJ}{kg \\cdot K}} \\right)$')\n",
    "\n",
    "ax.grid(True) # Enable grid\n",
    "ax.legend()   # Show legend\n",
    "\n",
    "plt.show()"
   ]
  },
  {
   "cell_type": "markdown",
   "id": "e442ae37",
   "metadata": {},
   "source": [
    "### $h-s$ (Mollier) Diagram"
   ]
  },
  {
   "cell_type": "code",
   "execution_count": 45,
   "id": "ee1166b3",
   "metadata": {},
   "outputs": [
    {
     "data": {
      "image/png": "[encoded data removed]",
      "text/plain": [
       "<Figure size 2000x1000 with 1 Axes>"
      ]
     },
     "metadata": {},
     "output_type": "display_data"
    }
   ],
   "source": [
    "fig, ax = plt.subplots(figsize=(20,10))\n",
    "\n",
    "# Title4\n",
    "ax.set_title('Carnot Engine · CO (ideal) · Mollier Diagram')\n",
    "\n",
    "# State markers\n",
    "ax.plot([s1, s2], [h1, h2], 'ro', markersize=10)  # States 1-2\n",
    "ax.plot([s3, s4], [h3, h4], 'bo', markersize=10)  # States 3-4\n",
    "\n",
    "# State annotations\n",
    "ax.annotate('1', xy=(s1, h1), xytext=(s1, h1*0.975), fontsize=14, ha='center')  # State 1\n",
    "ax.annotate('2', xy=(s2, h2), xytext=(s2, h2*0.975), fontsize=14, ha='center')  # State 2\n",
    "ax.annotate('3', xy=(s3, h3), xytext=(s3, h3*1.006), fontsize=14, ha='center')  # State 3\n",
    "ax.annotate('4', xy=(s4, h4), xytext=(s4, h4*1.006), fontsize=14, ha='center')  # State 4\n",
    "\n",
    "# Process curves\n",
    "ax.plot(s12, h12, 'r-', linewidth=2, label=r'1-2 Isothermal $T=T_h$')  # 1➛2: Isothermal\n",
    "ax.plot(s23, h23, 'g-', linewidth=2, label= '2-3 Adiabatic')           # 2➛3: Adiabatic\n",
    "ax.plot(s34, h34, 'b-', linewidth=2, label=r'3-4 Isothermal $T=T_c$')  # 3➛4: Isothermal\n",
    "ax.plot(s41, h41, 'g-', linewidth=2, label= '4-1 Adiabatic')           # 4➛1: Adiabatic\n",
    "\n",
    "# Axis labels\n",
    "ax.set_ylabel(r'specific enthalpy $\\left( \\mathrm{\\frac{kJ}{kg}} \\right)$')\n",
    "ax.set_xlabel(r'specific entropy $\\left( \\mathrm{\\frac{kJ}{kg \\cdot K}} \\right)$')\n",
    "\n",
    "ax.grid(True) # Enable grid\n",
    "ax.legend()   # Show legend\n",
    "\n",
    "plt.show()"
   ]
  },
  {
   "cell_type": "markdown",
   "id": "5ab84faf",
   "metadata": {},
   "source": [
    "### $P-h$ Diagram"
   ]
  },
  {
   "cell_type": "code",
   "execution_count": 46,
   "id": "b1101561",
   "metadata": {},
   "outputs": [
    {
     "data": {
      "image/png": "[encoded data removed]",
      "text/plain": [
       "<Figure size 2000x1000 with 1 Axes>"
      ]
     },
     "metadata": {},
     "output_type": "display_data"
    }
   ],
   "source": [
    "fig, ax = plt.subplots(figsize=(20,10))\n",
    "\n",
    "# title\n",
    "ax.set_title('Carnot Engine · CO (ideal)')\n",
    "\n",
    "# State markers\n",
    "ax.plot([h1, h2], [P1, P2], 'ro', markersize=10)  # States 1-2\n",
    "ax.plot([h3, h4], [P3, P4], 'bo', markersize=10)  # States 3-4\n",
    "\n",
    "# State annotations\n",
    "ax.annotate('1', xy=(h1, P1), xytext=(h1, P1*0.30), fontsize=14, ha='center')  # State 1\n",
    "ax.annotate('2', xy=(h2, P2), xytext=(h2, P2*1.08), fontsize=14, ha='center')  # State 2\n",
    "ax.annotate('3', xy=(h3, P3), xytext=(h3, P3*1.02), fontsize=14, ha='center')  # State 3\n",
    "ax.annotate('4', xy=(h4, P4), xytext=(h4, P4*0.90), fontsize=14, ha='center')  # State 4\n",
    "\n",
    "# process curves \n",
    "ax.plot(h12, P12, 'r-', linewidth=2, label=r'1-2 Isothermal $T=T_h$')  # 1➛2: Isothermal\n",
    "ax.plot(h23, P23, 'g-', linewidth=2, label= '2-3 Adiabatic')           # 2➛3: Adiabatic\n",
    "ax.plot(h34, P34, 'b-', linewidth=2, label=r'3-4 Isothermal $T=T_c$')  # 3➛4: Isothermal\n",
    "ax.plot(h41, P41, 'g-', linewidth=2, label= '4-1 Adiabatic')           # 4➛1: Adiabatic\n",
    "\n",
    "# Set axis labels\n",
    "ax.set_ylabel('Pressure (kPa)')\n",
    "ax.set_xlabel(r'specific enthalpy $\\left( \\mathrm{\\frac{kJ}{kg}} \\right)$')\n",
    "\n",
    "ax.grid(True) # Enable grid\n",
    "ax.legend()   # Show legend\n",
    "\n",
    "plt.show()"
   ]
  },
  {
   "cell_type": "markdown",
   "id": "1b05bb62",
   "metadata": {},
   "source": [
    "## Energy Balance in Processes"
   ]
  },
  {
   "cell_type": "markdown",
   "id": "7176bd14",
   "metadata": {},
   "source": [
    "### Process 1 $\\to$ 2: Isothermal Compression"
   ]
  },
  {
   "cell_type": "markdown",
   "id": "a6082698",
   "metadata": {},
   "source": [
    "#### Change in specific internal energy\n",
    "\n",
    "The change in specific internal energy for an ideal gas during an isothermal process is zero, as internal energy is a function of temperature which remains constant.\n",
    "\n",
    "$$ \\Delta u_{12} = c_{\\upsilon} \\, (T_2 - T_1) = 0 $$"
   ]
  },
  {
   "cell_type": "code",
   "execution_count": 47,
   "id": "9f14c748",
   "metadata": {},
   "outputs": [
    {
     "name": "stdout",
     "output_type": "stream",
     "text": [
      "𝚫u₁₂: 0.0 kJ/kg\n"
     ]
    }
   ],
   "source": [
    "energy_12 = 0\n",
    "print(f'𝚫u₁₂: {energy_12:.1f} kJ/kg')"
   ]
  },
  {
   "cell_type": "markdown",
   "id": "00fd042d",
   "metadata": {},
   "source": [
    "#### Specific work\n",
    "\n",
    "The work done by the system during an isothermal process is calculated through:\n",
    "\n",
    "$$ w_{12} = R \\: T_1 \\cdot \\ln \\Big( \\frac{v_2}{v_1} \\Big) $$"
   ]
  },
  {
   "cell_type": "code",
   "execution_count": 48,
   "id": "3c5f723d",
   "metadata": {},
   "outputs": [
    {
     "name": "stdout",
     "output_type": "stream",
     "text": [
      "w₁₂: -107.34 kJ/kg\n"
     ]
    }
   ],
   "source": [
    "work_12 = R * T1 * np.log(v2/v1)\n",
    "print(f'w₁₂: {work_12:.2f} kJ/kg')"
   ]
  },
  {
   "cell_type": "markdown",
   "id": "c2e3cf61",
   "metadata": {},
   "source": [
    "#### Heat per unit mass\n",
    "\n",
    "$$ q_{12} = \\Delta u_{12} + w_{12} = w_{12} $$"
   ]
  },
  {
   "cell_type": "code",
   "execution_count": 49,
   "id": "5bbe4c0e",
   "metadata": {},
   "outputs": [
    {
     "name": "stdout",
     "output_type": "stream",
     "text": [
      "Heat per unit mass (q₁₂): -107.339 kJ/kg\n"
     ]
    }
   ],
   "source": [
    "heat_12 = work_12  # Heat absorbed is equal to the work done, as internal energy change is zero\n",
    "print(f'Heat per unit mass (q₁₂): {heat_12:.3f} kJ/kg')"
   ]
  },
  {
   "cell_type": "markdown",
   "id": "b6642f3a",
   "metadata": {},
   "source": [
    "#### Change in specific enthalpy\n",
    "\n",
    "$$ \\Delta h_{12} = c_p \\, (T_2 - T_1) = 0 $$"
   ]
  },
  {
   "cell_type": "code",
   "execution_count": 50,
   "id": "a8c642c2",
   "metadata": {},
   "outputs": [
    {
     "name": "stdout",
     "output_type": "stream",
     "text": [
      "𝚫h₁₂: 0.0 kJ/kg\n"
     ]
    }
   ],
   "source": [
    "enthalpy_12 = 0\n",
    "print(f'𝚫h₁₂: {enthalpy_12:.1f} kJ/kg')"
   ]
  },
  {
   "cell_type": "markdown",
   "id": "9951b60f",
   "metadata": {},
   "source": [
    "#### Change in specific entropy\n",
    "\n",
    "\n",
    "\n",
    "The change in entropy value can be found with either\n",
    "\n",
    "$$ \\Delta s_{12}(T,P) = c_p \\, \\ln \\left( \\frac{T_2}{T_1} \\right) - R \\, \\ln \\left( \\frac{P_2}{P_1} \\right) $$\n",
    "\n",
    "or\n",
    "\n",
    "$$ \\Delta s_{12}(T,\\upsilon) = c_{\\upsilon} \\, \\ln \\left( \\frac{T_2}{T_1} \\right) + R \\, \\ln \\left( \\frac{\\upsilon_2}{\\upsilon_1} \\right) $$\n",
    "\n",
    "In isothermal processes:\n",
    "\n",
    "$$\\ln \\left( \\frac{T_2}{T_1} \\right) = 0$$\n",
    "\n",
    "Therefore:\n",
    "\n",
    "$$ \\Delta s_{12} = R \\; \\ln \\left( \\frac{\\upsilon_2}{\\upsilon_1} \\right)$$ or $$ \\Delta s_{12} = - R \\; \\ln \\left( \\frac{P_2}{P_1} \\right)$$"
   ]
  },
  {
   "cell_type": "code",
   "execution_count": 51,
   "id": "7effbc38",
   "metadata": {},
   "outputs": [
    {
     "name": "stdout",
     "output_type": "stream",
     "text": [
      "𝚫s₁₂: -0.35780 kJ/(kg·K)\n"
     ]
    }
   ],
   "source": [
    "entropy_12 = R * np.log(v2/v1)\n",
    "print(f'𝚫s₁₂: {entropy_12:.5f} kJ/(kg·K)')"
   ]
  },
  {
   "cell_type": "markdown",
   "id": "e956544f",
   "metadata": {},
   "source": [
    "In an isothermal process, the entropy can also be obtained by:\n",
    "\n",
    "$$ \\Delta s_{12} = \\frac{q_{12}}{T_1} $$"
   ]
  },
  {
   "cell_type": "code",
   "execution_count": 52,
   "id": "23721a7f",
   "metadata": {},
   "outputs": [
    {
     "name": "stdout",
     "output_type": "stream",
     "text": [
      "𝚫s₁₂: -0.35780 kJ/(kg·K)\n"
     ]
    }
   ],
   "source": [
    "entropy_12 = heat_12 / T1  # Entropy change calculated from heat transfer\n",
    "print(f'𝚫s₁₂: {entropy_12:.5f} kJ/(kg·K)')"
   ]
  },
  {
   "cell_type": "markdown",
   "id": "4b193888",
   "metadata": {},
   "source": [
    "### Process 2 $\\to$ 3: Adiabatic Compression"
   ]
  },
  {
   "cell_type": "markdown",
   "id": "873e470a",
   "metadata": {},
   "source": [
    "#### Change in specific internal energy\n",
    "\n",
    "$$ \\Delta u_{23} = c_{\\upsilon} \\, (T_3 - T_2) $$"
   ]
  },
  {
   "cell_type": "code",
   "execution_count": 53,
   "id": "6c7124cb",
   "metadata": {},
   "outputs": [
    {
     "name": "stdout",
     "output_type": "stream",
     "text": [
      "𝚫u₂₃: 148.70 kJ/kg\n"
     ]
    }
   ],
   "source": [
    "energy_23 = cv * (T3 - T2)    # Using constant cv\n",
    "print(f'𝚫u₂₃: {energy_23:.2f} kJ/kg')"
   ]
  },
  {
   "cell_type": "markdown",
   "id": "050595a1",
   "metadata": {},
   "source": [
    "#### Specific work\n",
    "\n",
    "Adiabatic processes ideally involve no heat transfer, but work is done by the system.\n",
    "\n",
    "$$ w_{23} = \\frac{1}{1-k} \\: \\left( P_3 \\, \\upsilon_3 - P_2 \\, \\upsilon_2 \\right) $$"
   ]
  },
  {
   "cell_type": "code",
   "execution_count": 54,
   "id": "16ac44a6",
   "metadata": {},
   "outputs": [
    {
     "name": "stdout",
     "output_type": "stream",
     "text": [
      "w₂₃: -148.70 kJ/kg\n"
     ]
    }
   ],
   "source": [
    "work_23 = (P3*v3 - P2*v2)/(1-k)\n",
    "print(f'w₂₃: {work_23:.2f} kJ/kg')"
   ]
  },
  {
   "cell_type": "markdown",
   "id": "da74b69a",
   "metadata": {},
   "source": [
    "#### Heat per unit mass\n",
    "\n",
    "During adiabatic processes, there is no heat exchange with the surroundings.\n",
    "\n",
    "$$ q_{23} = \\Delta u_{23} + w_{23} = 0 $$"
   ]
  },
  {
   "cell_type": "code",
   "execution_count": 55,
   "id": "24598092",
   "metadata": {},
   "outputs": [
    {
     "name": "stdout",
     "output_type": "stream",
     "text": [
      "q₂₃: 0.0 kJ/kg\n"
     ]
    }
   ],
   "source": [
    "heat_23 = 0 \n",
    "print(f'q₂₃: {heat_23:.1f} kJ/kg')"
   ]
  },
  {
   "cell_type": "markdown",
   "id": "245e6bcc",
   "metadata": {},
   "source": [
    "#### Change in specific enthalpy\n",
    "\n",
    "$$ \\Delta h_{23} = c_p \\, (T_3 - T_2) $$"
   ]
  },
  {
   "cell_type": "code",
   "execution_count": 56,
   "id": "f0cb6902",
   "metadata": {},
   "outputs": [
    {
     "name": "stdout",
     "output_type": "stream",
     "text": [
      "𝚫h₂₃: 208.07 kJ/kg\n"
     ]
    }
   ],
   "source": [
    "enthalpy_23 = cp * (T3 - T2)\n",
    "print(f'𝚫h₂₃: {enthalpy_23:.2f} kJ/kg')"
   ]
  },
  {
   "cell_type": "markdown",
   "id": "a8f0804d",
   "metadata": {},
   "source": [
    "#### Change in specific entropy\n",
    "\n",
    "In an ideal adiabatic process the change in entropy should be zero:\n",
    "\n",
    "$$ \\Delta s_{23} = s_3 - s_2 = 0 $$"
   ]
  },
  {
   "cell_type": "code",
   "execution_count": 57,
   "id": "c5a1f212",
   "metadata": {},
   "outputs": [
    {
     "name": "stdout",
     "output_type": "stream",
     "text": [
      "𝚫s₂₃: 0.00 kJ/(kg·K)\n"
     ]
    }
   ],
   "source": [
    "entropy_23 = s3 - s2\n",
    "print(f'𝚫s₂₃: {entropy_23:.2f} kJ/(kg·K)')"
   ]
  },
  {
   "cell_type": "markdown",
   "id": "9767794d",
   "metadata": {},
   "source": [
    "### Process 3 $\\to$ 4: Isothermal Expansion"
   ]
  },
  {
   "cell_type": "markdown",
   "id": "de303a47",
   "metadata": {},
   "source": [
    "#### Change in specific internal energy\n",
    "\n",
    "As expected in an isothermal process for an ideal gas, since there is no change in temperature the change in internal energy is zero.\n",
    "\n",
    "$$ \\Delta u_{34} = c_v \\, (T_4 - T_3) = 0 $$"
   ]
  },
  {
   "cell_type": "code",
   "execution_count": 58,
   "id": "f270604f",
   "metadata": {},
   "outputs": [
    {
     "name": "stdout",
     "output_type": "stream",
     "text": [
      "𝚫u₃₄: 0.0 kJ/kg\n"
     ]
    }
   ],
   "source": [
    "energy_34 = 0  # Calculated using constant cv, should be zero\n",
    "print(f'𝚫u₃₄: {energy_34:.1f} kJ/kg')"
   ]
  },
  {
   "cell_type": "markdown",
   "id": "555930d5",
   "metadata": {},
   "source": [
    "#### Specific work\n",
    "\n",
    "$$ w_{34} = R \\: T_3 \\cdot \\ln \\Big( \\frac{v_4}{v_3} \\Big) $$"
   ]
  },
  {
   "cell_type": "code",
   "execution_count": 59,
   "id": "e77ed92b",
   "metadata": {},
   "outputs": [
    {
     "name": "stdout",
     "output_type": "stream",
     "text": [
      "w₃₄: 178.90 kJ/kg\n"
     ]
    }
   ],
   "source": [
    "work_34 = R * T3 * np.log(v4/v3)\n",
    "print(f'w₃₄: {work_34:.2f} kJ/kg')"
   ]
  },
  {
   "cell_type": "markdown",
   "id": "8646f2a0",
   "metadata": {},
   "source": [
    "#### Heat per unit mass\n",
    "\n",
    "$$ q_{34} = \\Delta u_{34} + w_{34} = 0 $$"
   ]
  },
  {
   "cell_type": "code",
   "execution_count": 60,
   "id": "13b0ccf2",
   "metadata": {},
   "outputs": [
    {
     "name": "stdout",
     "output_type": "stream",
     "text": [
      "q₃₄: 178.90 kJ/kg\n"
     ]
    }
   ],
   "source": [
    "heat_34 = work_34\n",
    "print(f'q₃₄: {heat_34:.2f} kJ/kg')"
   ]
  },
  {
   "cell_type": "markdown",
   "id": "54704cfb",
   "metadata": {},
   "source": [
    "#### Change in specific enthalpy\n",
    "\n",
    "No changes in enthalpy are expected.\n",
    "\n",
    "$$ \\Delta h_{34} = c_p \\, (T_4 - T_3) = 0 $$"
   ]
  },
  {
   "cell_type": "code",
   "execution_count": 61,
   "id": "ed03a463",
   "metadata": {},
   "outputs": [
    {
     "name": "stdout",
     "output_type": "stream",
     "text": [
      "𝚫h₂₃: 0.0 kJ/kg\n"
     ]
    }
   ],
   "source": [
    "enthalpy_34 = 0  # No change in enthalpy during isothermal process\n",
    "print(f'𝚫h₂₃: {enthalpy_34:.1f} kJ/kg')"
   ]
  },
  {
   "cell_type": "markdown",
   "id": "2b9074fe",
   "metadata": {},
   "source": [
    "#### Change in specific entropy\n",
    "\n",
    "The entropy change can be found using:\n",
    "\n",
    "$$ \\Delta s_{34} = R \\; \\ln \\left( \\frac{\\upsilon_4}{\\upsilon_3} \\right)$$"
   ]
  },
  {
   "cell_type": "code",
   "execution_count": 62,
   "id": "3fc46cca",
   "metadata": {},
   "outputs": [
    {
     "name": "stdout",
     "output_type": "stream",
     "text": [
      "𝚫s₃₄): 0.35780 kJ/(kg·K)\n"
     ]
    }
   ],
   "source": [
    "entropy_34 = R * np.log(v4/v3)\n",
    "print(f'𝚫s₃₄): {entropy_34:.5f} kJ/(kg·K)')"
   ]
  },
  {
   "cell_type": "markdown",
   "id": "192e7710",
   "metadata": {},
   "source": [
    "The entropy can also be obtained, in an isothermal process, as :\n",
    "\n",
    "$$ \\Delta s_{34} = \\frac{q_{34}}{T_3} $$"
   ]
  },
  {
   "cell_type": "code",
   "execution_count": 63,
   "id": "e94efd40",
   "metadata": {},
   "outputs": [
    {
     "name": "stdout",
     "output_type": "stream",
     "text": [
      "𝚫s₃₄: 0.35780 kJ/(kg·K)\n"
     ]
    }
   ],
   "source": [
    "entropy_34 = heat_34 / T3  # Entropy change due to heat transfer\n",
    "print(f'𝚫s₃₄: {entropy_34:.5f} kJ/(kg·K)')"
   ]
  },
  {
   "cell_type": "markdown",
   "id": "33a8fc63",
   "metadata": {},
   "source": [
    "### Process 4 $\\to$ 1: Adiabatic Expansion"
   ]
  },
  {
   "cell_type": "markdown",
   "id": "feeb3f09",
   "metadata": {},
   "source": [
    "This final phase of the Carnot cycle involves an adiabatic process, returning the system to its initial state. Similar to the previous adiabatic compression, this process is characterized by no heat exchange with the surroundings."
   ]
  },
  {
   "cell_type": "markdown",
   "id": "c6490eb2",
   "metadata": {},
   "source": [
    "#### Change in specific internal energy\n",
    "\n",
    "$$ \\Delta u_{41} = c_v \\, (T_1 - T_4) $$"
   ]
  },
  {
   "cell_type": "code",
   "execution_count": 64,
   "id": "9376dc10",
   "metadata": {},
   "outputs": [
    {
     "name": "stdout",
     "output_type": "stream",
     "text": [
      "𝚫u₄₁: -148.70 kJ/kg\n"
     ]
    }
   ],
   "source": [
    "energy_41 = cv * (T1 - T4)  # Calculated using constant cv\n",
    "print(f'𝚫u₄₁: {energy_41:.2f} kJ/kg')"
   ]
  },
  {
   "cell_type": "markdown",
   "id": "17b81468",
   "metadata": {},
   "source": [
    "#### Specific work\n",
    "\n",
    "$$ w_{41} = \\frac{1}{1-k} \\: \\left( P_1 \\, \\upsilon_1 - P_4 \\, \\upsilon_4 \\right) $$"
   ]
  },
  {
   "cell_type": "code",
   "execution_count": 65,
   "id": "d574559d",
   "metadata": {},
   "outputs": [
    {
     "name": "stdout",
     "output_type": "stream",
     "text": [
      "w₄₁: 148.70 kJ/kg\n"
     ]
    }
   ],
   "source": [
    "work_41 = (P1 * v1 - P4 * v4) / (1 - k)  # Theoretical calculation using the adiabatic equation\n",
    "print(f'w₄₁: {work_41:.2f} kJ/kg')"
   ]
  },
  {
   "cell_type": "markdown",
   "id": "97e30a97",
   "metadata": {},
   "source": [
    "#### Heat per unit mass\n",
    "\n",
    "$$ q_{41} = \\Delta u_{41} + w_{41} = 0 $$"
   ]
  },
  {
   "cell_type": "code",
   "execution_count": 66,
   "id": "490c5530",
   "metadata": {},
   "outputs": [
    {
     "name": "stdout",
     "output_type": "stream",
     "text": [
      "q₄₁: 0.0 kJ/kg\n"
     ]
    }
   ],
   "source": [
    "heat_41 = 0\n",
    "print(f'q₄₁: {heat_41:.1f} kJ/kg')"
   ]
  },
  {
   "cell_type": "markdown",
   "id": "1d6446fc",
   "metadata": {},
   "source": [
    "#### Change in specific enthalpy\n",
    "\n",
    "$$ \\Delta h_{41} = c_p \\, (T_1 - T_4) $$"
   ]
  },
  {
   "cell_type": "code",
   "execution_count": 67,
   "id": "b8ab2e21",
   "metadata": {},
   "outputs": [
    {
     "name": "stdout",
     "output_type": "stream",
     "text": [
      "𝚫h₄₁: -208.07 kJ/kg\n"
     ]
    }
   ],
   "source": [
    "enthalpy_41 = cp * (T1 - T4)\n",
    "print(f'𝚫h₄₁: {enthalpy_41:.2f} kJ/kg')"
   ]
  },
  {
   "cell_type": "markdown",
   "id": "0aed7d0d",
   "metadata": {},
   "source": [
    "#### Change in specific entropy\n",
    "\n",
    "For an adiabatic process:\n",
    "\n",
    "$$ \\Delta s_{41} = 0 $$"
   ]
  },
  {
   "cell_type": "code",
   "execution_count": 68,
   "id": "562cf950",
   "metadata": {},
   "outputs": [
    {
     "name": "stdout",
     "output_type": "stream",
     "text": [
      "𝚫s₄₁): 0.0 kJ/(kg·K)\n"
     ]
    }
   ],
   "source": [
    "entropy_41 = s1 - s4  # Change in entropy, indicating the degree of reversibility\n",
    "print(f'𝚫s₄₁): {entropy_41:.1f} kJ/(kg·K)')"
   ]
  },
  {
   "cell_type": "markdown",
   "id": "49a90d06",
   "metadata": {},
   "source": [
    "### Balance of Energy in each Process · Summary\n",
    "\n",
    "In this section, we summarize the energy transfers in each process of the Carnot cycle. These summaries provide insights into the work done, heat transferred, and changes in internal energy, enthalpy, and entropy."
   ]
  },
  {
   "cell_type": "code",
   "execution_count": 69,
   "id": "a938d3e7",
   "metadata": {},
   "outputs": [
    {
     "data": {
      "text/html": [
       "<style type=\"text/css\">\n",
       "</style>\n",
       "<table id=\"T_d8421\">\n",
       "  <caption>Carnot Cycle · Processes (CO, ideal)</caption>\n",
       "  <thead>\n",
       "    <tr>\n",
       "      <th class=\"blank level0\" >&nbsp;</th>\n",
       "      <th id=\"T_d8421_level0_col0\" class=\"col_heading level0 col0\" >q (kJ/kg)</th>\n",
       "      <th id=\"T_d8421_level0_col1\" class=\"col_heading level0 col1\" >w (kJ/kg)</th>\n",
       "      <th id=\"T_d8421_level0_col2\" class=\"col_heading level0 col2\" >Δu (kJ/kg)</th>\n",
       "      <th id=\"T_d8421_level0_col3\" class=\"col_heading level0 col3\" >Δh (kJ/kg)</th>\n",
       "      <th id=\"T_d8421_level0_col4\" class=\"col_heading level0 col4\" >Δs (kJ/(kg·K))</th>\n",
       "    </tr>\n",
       "    <tr>\n",
       "      <th class=\"index_name level0\" >Process</th>\n",
       "      <th class=\"blank col0\" >&nbsp;</th>\n",
       "      <th class=\"blank col1\" >&nbsp;</th>\n",
       "      <th class=\"blank col2\" >&nbsp;</th>\n",
       "      <th class=\"blank col3\" >&nbsp;</th>\n",
       "      <th class=\"blank col4\" >&nbsp;</th>\n",
       "    </tr>\n",
       "  </thead>\n",
       "  <tbody>\n",
       "    <tr>\n",
       "      <th id=\"T_d8421_level0_row0\" class=\"row_heading level0 row0\" >1➛2</th>\n",
       "      <td id=\"T_d8421_row0_col0\" class=\"data row0 col0\" >-107.34</td>\n",
       "      <td id=\"T_d8421_row0_col1\" class=\"data row0 col1\" >-107.34</td>\n",
       "      <td id=\"T_d8421_row0_col2\" class=\"data row0 col2\" >0.00</td>\n",
       "      <td id=\"T_d8421_row0_col3\" class=\"data row0 col3\" >0.00</td>\n",
       "      <td id=\"T_d8421_row0_col4\" class=\"data row0 col4\" >-0.35780</td>\n",
       "    </tr>\n",
       "    <tr>\n",
       "      <th id=\"T_d8421_level0_row1\" class=\"row_heading level0 row1\" >2➛3</th>\n",
       "      <td id=\"T_d8421_row1_col0\" class=\"data row1 col0\" >0.00</td>\n",
       "      <td id=\"T_d8421_row1_col1\" class=\"data row1 col1\" >-148.70</td>\n",
       "      <td id=\"T_d8421_row1_col2\" class=\"data row1 col2\" >148.70</td>\n",
       "      <td id=\"T_d8421_row1_col3\" class=\"data row1 col3\" >208.07</td>\n",
       "      <td id=\"T_d8421_row1_col4\" class=\"data row1 col4\" >0.00000</td>\n",
       "    </tr>\n",
       "    <tr>\n",
       "      <th id=\"T_d8421_level0_row2\" class=\"row_heading level0 row2\" >3➛4</th>\n",
       "      <td id=\"T_d8421_row2_col0\" class=\"data row2 col0\" >178.90</td>\n",
       "      <td id=\"T_d8421_row2_col1\" class=\"data row2 col1\" >178.90</td>\n",
       "      <td id=\"T_d8421_row2_col2\" class=\"data row2 col2\" >0.00</td>\n",
       "      <td id=\"T_d8421_row2_col3\" class=\"data row2 col3\" >0.00</td>\n",
       "      <td id=\"T_d8421_row2_col4\" class=\"data row2 col4\" >0.35780</td>\n",
       "    </tr>\n",
       "    <tr>\n",
       "      <th id=\"T_d8421_level0_row3\" class=\"row_heading level0 row3\" >4➛1</th>\n",
       "      <td id=\"T_d8421_row3_col0\" class=\"data row3 col0\" >0.00</td>\n",
       "      <td id=\"T_d8421_row3_col1\" class=\"data row3 col1\" >148.70</td>\n",
       "      <td id=\"T_d8421_row3_col2\" class=\"data row3 col2\" >-148.70</td>\n",
       "      <td id=\"T_d8421_row3_col3\" class=\"data row3 col3\" >-208.07</td>\n",
       "      <td id=\"T_d8421_row3_col4\" class=\"data row3 col4\" >0.00000</td>\n",
       "    </tr>\n",
       "  </tbody>\n",
       "</table>\n"
      ],
      "text/plain": [
       "<pandas.io.formats.style.Styler at 0x1259811d0>"
      ]
     },
     "execution_count": 69,
     "metadata": {},
     "output_type": "execute_result"
    }
   ],
   "source": [
    "# Define the data for each process under ideal assumptions\n",
    "processes = {\n",
    "    '1➛2': {'q (kJ/kg)': heat_12, 'w (kJ/kg)': work_12, 'Δu (kJ/kg)': energy_12, 'Δh (kJ/kg)': enthalpy_12, 'Δs (kJ/(kg·K))': entropy_12},\n",
    "    '2➛3': {'q (kJ/kg)': heat_23, 'w (kJ/kg)': work_23, 'Δu (kJ/kg)': energy_23, 'Δh (kJ/kg)': enthalpy_23, 'Δs (kJ/(kg·K))': entropy_23},\n",
    "    '3➛4': {'q (kJ/kg)': heat_34, 'w (kJ/kg)': work_34, 'Δu (kJ/kg)': energy_34, 'Δh (kJ/kg)': enthalpy_34, 'Δs (kJ/(kg·K))': entropy_34},\n",
    "    '4➛1': {'q (kJ/kg)': heat_41, 'w (kJ/kg)': work_41, 'Δu (kJ/kg)': energy_41, 'Δh (kJ/kg)': enthalpy_41, 'Δs (kJ/(kg·K))': entropy_41}\n",
    "}\n",
    "\n",
    "carnot_processes = (\n",
    "    pd.DataFrame.from_dict(processes, orient=\"index\")\n",
    "      .rename_axis(\"Process\")\n",
    "      .sort_index()\n",
    ")\n",
    "\n",
    "# Nice-looking styled view in Jupyter (won’t affect exports)\n",
    "styled = (carnot_processes\n",
    "          .style\n",
    "          .format({\"q (kJ/kg)\": \"{:,.2f}\", \"w (kJ/kg)\": \"{:,.2f}\", \"Δu (kJ/kg)\": \"{:,.2f}\", \"Δh (kJ/kg)\": \"{:,.2f}\", \"Δs (kJ/(kg·K))\": \"{:,.5f}\"})\n",
    "          .set_caption(\"Carnot Cycle · Processes (CO, ideal)\"))\n",
    "styled"
   ]
  },
  {
   "cell_type": "markdown",
   "id": "a9dc196d",
   "metadata": {},
   "source": [
    "## Energy Analysis of the Carnot Cycle\n",
    "\n",
    "To understand the total energy transformation, we analyze the changes in internal energy, work, and heat transfers throughout the Carnot cycle."
   ]
  },
  {
   "cell_type": "markdown",
   "id": "439a1864",
   "metadata": {},
   "source": [
    "### Internal Energy Changes\n",
    "\n",
    "We start by listing the changes in internal energy for each process:"
   ]
  },
  {
   "cell_type": "code",
   "execution_count": 70,
   "id": "5da8232f",
   "metadata": {},
   "outputs": [],
   "source": [
    "energy_changes = [energy_12, energy_23, energy_34, energy_41]  # Changes in internal energy under ideal assumptions"
   ]
  },
  {
   "cell_type": "markdown",
   "id": "a37f3c0b",
   "metadata": {},
   "source": [
    "#### Net Change of Internal Energy of the Cycle\n",
    "\n",
    "The net change in internal energy for a complete cycle should theoretically sum to zero:\n",
    "\n",
    "$$ \\Delta u_{cycle} = 0 $$"
   ]
  },
  {
   "cell_type": "code",
   "execution_count": 71,
   "id": "b26521be",
   "metadata": {},
   "outputs": [
    {
     "name": "stdout",
     "output_type": "stream",
     "text": [
      "Net change of internal energy: 0.0 kJ/kg\n"
     ]
    }
   ],
   "source": [
    "internal_energy_cycle = sum(energy_changes)\n",
    "print(f'Net change of internal energy: {internal_energy_cycle:.1f} kJ/kg')"
   ]
  },
  {
   "cell_type": "markdown",
   "id": "80c72da6",
   "metadata": {},
   "source": [
    "### Work\n",
    "\n",
    "Next, we calculate the work done in each process of the cycle:"
   ]
  },
  {
   "cell_type": "code",
   "execution_count": 72,
   "id": "27d0a2ea",
   "metadata": {},
   "outputs": [],
   "source": [
    "works = [work_12, work_23, work_34, work_41]  # Work done during each process"
   ]
  },
  {
   "cell_type": "markdown",
   "id": "4f67b8f3",
   "metadata": {},
   "source": [
    "#### Net Work of the Cycle\n",
    "\n",
    "The net work done by the cycle is calculated by summing the work done in each process:"
   ]
  },
  {
   "cell_type": "code",
   "execution_count": 73,
   "id": "f02ee7e3",
   "metadata": {},
   "outputs": [
    {
     "name": "stdout",
     "output_type": "stream",
     "text": [
      "Net work: 71.559 kJ/kg\n"
     ]
    }
   ],
   "source": [
    "work_net = sum(works)\n",
    "print(f'Net work: {work_net:.3f} kJ/kg')"
   ]
  },
  {
   "cell_type": "markdown",
   "id": "694aa603",
   "metadata": {},
   "source": [
    "### Heat Transfers\n",
    "\n",
    "Here we list the heat transfers for each process, critical for understanding the cycle's efficiency and energy dynamics:"
   ]
  },
  {
   "cell_type": "code",
   "execution_count": 74,
   "id": "ddb56b4a",
   "metadata": {},
   "outputs": [],
   "source": [
    "heat_transfers = [heat_12, heat_23, heat_34, heat_41]  # Heat transfers under ideal gas model assumptions"
   ]
  },
  {
   "cell_type": "markdown",
   "id": "01b1a5eb",
   "metadata": {},
   "source": [
    "#### Net Heat of the Cycle\n",
    "\n",
    "Similarly, the net heat for the cycle is obtained by summing the heat transferred in each process:"
   ]
  },
  {
   "cell_type": "code",
   "execution_count": 75,
   "id": "8f63b701",
   "metadata": {},
   "outputs": [
    {
     "name": "stdout",
     "output_type": "stream",
     "text": [
      "Net heat transfer: 71.559 kJ/kg\n"
     ]
    }
   ],
   "source": [
    "heat_net = sum(heat_transfers)\n",
    "print(f'Net heat transfer: {heat_net:.3f} kJ/kg')"
   ]
  },
  {
   "cell_type": "markdown",
   "id": "37b802f7",
   "metadata": {},
   "source": [
    "This analysis allows us to verify the first law of thermodynamics across the Carnot cycle, demonstrating the conservation of energy. Both the net work and net heat transferred over the cycle should be equal."
   ]
  },
  {
   "cell_type": "markdown",
   "id": "5688c775",
   "metadata": {},
   "source": [
    "### Thermal Efficiency"
   ]
  },
  {
   "cell_type": "markdown",
   "id": "f0880e77",
   "metadata": {},
   "source": [
    "#### Heat Taken from the Hot Reservoir\n",
    "\n",
    "The heat from the hot source $(q_h)$, is the total of all positive heat transfers, representing the energy absorbed from the surroundings."
   ]
  },
  {
   "cell_type": "code",
   "execution_count": 76,
   "id": "8eed60d1",
   "metadata": {},
   "outputs": [
    {
     "name": "stdout",
     "output_type": "stream",
     "text": [
      "Heat from the hot reservoir (qh): 178.90 kJ/kg\n"
     ]
    }
   ],
   "source": [
    "# Calculate heat from the hot source (sum of the positive values)\n",
    "\n",
    "qh = sum(q for q in heat_transfers if q > 0)\n",
    "print(f'Heat from the hot reservoir (qh): {qh:.2f} kJ/kg')"
   ]
  },
  {
   "cell_type": "markdown",
   "id": "148aff41",
   "metadata": {},
   "source": [
    "#### Heat Rejected to the Cold Reservoir\n",
    "\n",
    "The heat expelled to the cold sink $(q_c)$, is the absolute value of the total negative heat transfers, representing the energy rejected back to the surroundings."
   ]
  },
  {
   "cell_type": "code",
   "execution_count": 77,
   "id": "84ef4086",
   "metadata": {},
   "outputs": [
    {
     "name": "stdout",
     "output_type": "stream",
     "text": [
      "Heat expelled to the cold sink (qc): 107.34 kJ/kg\n"
     ]
    }
   ],
   "source": [
    "# Calculate heat expelled to the cold sink (sum of the negative values)\n",
    "\n",
    "qc = np.fabs(sum(q for q in heat_transfers if q < 0))\n",
    "print(f'Heat expelled to the cold sink (qc): {qc:.2f} kJ/kg')"
   ]
  },
  {
   "cell_type": "markdown",
   "id": "34454846",
   "metadata": {},
   "source": [
    "#### Thermodynamic Efficiency of the Engine\n",
    "\n",
    "$\\eta$ is a measure of the engine's effectiveness in converting the input energy into useful work:\n",
    "\n",
    "$$ \\eta = \\frac{\\mathrm{Desired} \\; \\mathrm{Output}}{\\mathrm{Required} \\; \\mathrm{Input}} $$\n",
    "\n",
    "It can be calculated using the work output relative to the heat input:\n",
    "\n",
    "$$ \\eta = \\frac{w_{cycle}}{q_h} $$\n",
    "\n",
    "Another way to compute the efficency is based on the heat rejected and heat absorbed:\n",
    "\n",
    "$$ \\eta = 1 - \\frac{q_c}{q_h} $$"
   ]
  },
  {
   "cell_type": "code",
   "execution_count": 78,
   "id": "a70fd679",
   "metadata": {},
   "outputs": [
    {
     "name": "stdout",
     "output_type": "stream",
     "text": [
      "Thermal efficiency (η): 40.0%\n"
     ]
    }
   ],
   "source": [
    "efficiency = 1 - (qc / qh)\n",
    "print(f'Thermal efficiency (η): {efficiency:.1%}')"
   ]
  },
  {
   "cell_type": "markdown",
   "id": "b369afb2",
   "metadata": {},
   "source": [
    "### Reversible *(Carnot)* Efficiency"
   ]
  },
  {
   "cell_type": "markdown",
   "id": "3bbfeb95",
   "metadata": {},
   "source": [
    "#### Temperature of the Hot Reservoir\n",
    "\n",
    "The temperature of the hot reservoir, $T_h$, represents the maximum thermal energy input into the cycle. It is identified by finding the highest temperature among the critical states in the cycle."
   ]
  },
  {
   "cell_type": "code",
   "execution_count": 79,
   "id": "e915d70c",
   "metadata": {},
   "outputs": [
    {
     "name": "stdout",
     "output_type": "stream",
     "text": [
      "Temperature of the hot reservoir (Th): 500 K\n"
     ]
    }
   ],
   "source": [
    "# Determine the highest temperature in the cycle\n",
    "Th = max(T1, T2, T3, T4)\n",
    "print(f'Temperature of the hot reservoir (Th): {Th} K')"
   ]
  },
  {
   "cell_type": "markdown",
   "id": "58efb22f",
   "metadata": {},
   "source": [
    "#### Temperature of the Cold Sink\n",
    "\n",
    "Similarly, the temperature of the cold sink, $T_c$, is defined as the lowest temperature at which the cycle expels heat."
   ]
  },
  {
   "cell_type": "code",
   "execution_count": 80,
   "id": "6efc62d6",
   "metadata": {},
   "outputs": [
    {
     "name": "stdout",
     "output_type": "stream",
     "text": [
      "Temperature of the cold sink (Tc): 300 K\n"
     ]
    }
   ],
   "source": [
    "# Determine the lowest temperature in the cycle\n",
    "Tc = min(T1, T2, T3, T4)\n",
    "print(f'Temperature of the cold sink (Tc): {Tc} K')"
   ]
  },
  {
   "cell_type": "markdown",
   "id": "c90b5ca7",
   "metadata": {},
   "source": [
    "#### Reversible Cycle (Carnot) Efficiency\n",
    "\n",
    "The Carnot or reversible cycle efficiency represents the theoretical maximum efficiency that any heat engine operating between two temperatures can achieve. It is defined by the following relation:\n",
    "\n",
    "$$ \\eta_{rev} = 1 - \\frac{T_c}{T_h} $$\n",
    "\n",
    "This efficiency calculation assumes no irreversibilities and is purely based on the temperature limits of the heat engine."
   ]
  },
  {
   "cell_type": "code",
   "execution_count": 81,
   "id": "0ef15488",
   "metadata": {},
   "outputs": [
    {
     "name": "stdout",
     "output_type": "stream",
     "text": [
      "Efficiency of the reversible Carnot engine (ηrev): 40.0%\n"
     ]
    }
   ],
   "source": [
    "# Calculate the Carnot efficiency\n",
    "efficiency_carnot = 1 - Tc / Th\n",
    "print(f'Efficiency of the reversible Carnot engine (ηrev): {efficiency_carnot:.1%}')"
   ]
  },
  {
   "cell_type": "markdown",
   "id": "dc958c80-7ec7-4ea7-aaa9-e9b1d8b7a5e1",
   "metadata": {
    "id": "8iucqBPrdhCO",
    "jp-MarkdownHeadingCollapsed": true,
    "tags": []
   },
   "source": [
    "#### Total heat transfer\n",
    "\n",
    "The total heat transfer for the cycle can also be calculated using the integral of temperature with respect to entropy across all processes:\n",
    "\n",
    "$$ q_{cycle} = \\oint {T \\, ds}  = \\int _{s_1} ^{s_2}  T \\, ds + \\int _{s_2} ^{s_3}  T \\, ds +\\int _{s_3} ^{s_4}  T \\, ds + \\int _{s_4} ^{s_1}  T \\, ds$$"
   ]
  },
  {
   "cell_type": "code",
   "execution_count": 82,
   "id": "136a0e7a-dac9-4a5e-af51-b7f75701201b",
   "metadata": {
    "colab": {
     "base_uri": "https://localhost:8080/"
    },
    "id": "12f66b9f-c277-439a-b24c-c596cd07f98d",
    "outputId": "de6ef394-d5a8-4b00-f708-55ee423a0763",
    "tags": []
   },
   "outputs": [
    {
     "name": "stdout",
     "output_type": "stream",
     "text": [
      "q cycle: 71.559 kJ/kg\n"
     ]
    }
   ],
   "source": [
    "# Calculate the total heat transfer using the integral of T ds\n",
    "heat_cycle = integrate.simpson(T12, x=s12) + integrate.simpson(T23, x=s23) + integrate.simpson(T34, x=s34) + integrate.simpson(T41, x=s41)\n",
    "print(f'q cycle: {heat_cycle:.3f} kJ/kg')  # Display the calculated heat transfer"
   ]
  },
  {
   "cell_type": "markdown",
   "id": "d2ac4e71",
   "metadata": {},
   "source": [
    "### Specific Entropy Changes\n",
    "\n",
    "The changes in entropy for each process will be stored in:"
   ]
  },
  {
   "cell_type": "code",
   "execution_count": 83,
   "id": "665d19b9",
   "metadata": {},
   "outputs": [],
   "source": [
    "entropy_changes = [entropy_12, entropy_23, entropy_34, entropy_41]  # Changes in internal energy under ideal assumptions"
   ]
  },
  {
   "cell_type": "markdown",
   "id": "fc87078f",
   "metadata": {},
   "source": [
    "#### Net change of specific entropy of the cycle"
   ]
  },
  {
   "cell_type": "code",
   "execution_count": 84,
   "id": "63bdf274",
   "metadata": {},
   "outputs": [
    {
     "name": "stdout",
     "output_type": "stream",
     "text": [
      "Net change of entropy: -0.0 kJ/kg\n"
     ]
    }
   ],
   "source": [
    "entropy_net = sum(entropy_changes)\n",
    "print(f'Net change of entropy: {entropy_net:.1f} kJ/kg')"
   ]
  },
  {
   "cell_type": "markdown",
   "id": "35f703f8",
   "metadata": {},
   "source": [
    "$$ \\Delta s_{cycle} = \\oint {\\frac{dq}{T}} $$"
   ]
  },
  {
   "cell_type": "markdown",
   "id": "af2eb381",
   "metadata": {},
   "source": [
    "#### Change of entropy of the source"
   ]
  },
  {
   "cell_type": "code",
   "execution_count": 85,
   "id": "787373f0",
   "metadata": {},
   "outputs": [
    {
     "name": "stdout",
     "output_type": "stream",
     "text": [
      "Entropy increase from heat addition at Th: -0.3578 kJ/(kg·K)\n"
     ]
    }
   ],
   "source": [
    "# Entropy decrease of the source from heat addition to the engine at high temperature\n",
    "entropy_source = - heat_34 / T3\n",
    "print(f'Entropy increase from heat addition at Th: {entropy_source:.4f} kJ/(kg·K)')"
   ]
  },
  {
   "cell_type": "markdown",
   "id": "010a2e33",
   "metadata": {},
   "source": [
    "#### Change of entropy of the sink"
   ]
  },
  {
   "cell_type": "code",
   "execution_count": 86,
   "id": "355137c3",
   "metadata": {},
   "outputs": [
    {
     "name": "stdout",
     "output_type": "stream",
     "text": [
      "Entropy decrease from heat rejection at T_C: 0.3578 kJ/(kg·K)\n"
     ]
    }
   ],
   "source": [
    "# Entropy increase of the sink from heat rejection of the engine at low temperature\n",
    "entropy_sink = np.abs(heat_12) / T1\n",
    "print(f'Entropy decrease from heat rejection at T_C: {entropy_sink:.4f} kJ/(kg·K)')"
   ]
  },
  {
   "cell_type": "markdown",
   "id": "6c012ec0",
   "metadata": {},
   "source": [
    "#### Change of entropy of the universe"
   ]
  },
  {
   "cell_type": "code",
   "execution_count": 87,
   "id": "3114596c",
   "metadata": {},
   "outputs": [
    {
     "name": "stdout",
     "output_type": "stream",
     "text": [
      "Total entropy change of the universe: 0.0000 kJ/(kg·K)\n"
     ]
    }
   ],
   "source": [
    "# Total entropy change of the universe\n",
    "entropy_universe = entropy_net + entropy_source + entropy_sink\n",
    "print(f'Total entropy change of the universe: {entropy_universe:.4f} kJ/(kg·K)')"
   ]
  },
  {
   "cell_type": "markdown",
   "id": "6befefd0-a85c-462f-b574-1429fb25caaf",
   "metadata": {},
   "source": [
    "## Functions for Isochoric and Isobaric Processes"
   ]
  },
  {
   "cell_type": "markdown",
   "id": "942f30ce-e535-45a0-adc7-bb3693df9afe",
   "metadata": {},
   "source": [
    "The Carnot cycle, which we've analyzed so far, consists exclusively of isothermal and adiabatic processes. However, other fundamental thermodynamic cycles include **isochoric** (constant volume) and **isobaric** (constant pressure) processes, which we will explore in this section. \n",
    "\n",
    "Here, we will demonstrate how to define arrays for isochoric and isobaric processes. Understanding these processes helps extend our analysis beyond the Carnot cycle, providing insights into other practical engineering applications."
   ]
  },
  {
   "cell_type": "markdown",
   "id": "ee5c50c7",
   "metadata": {},
   "source": [
    "### Isochoric Processes\n",
    "\n",
    "Let's assume a process that ocurrs between two states at constant volume. We will define what the arrays would look like for an isochoric process:\n",
    "\n",
    "\n",
    "- **Specific volume (`v_array`)**: Remains unchanged, so it will be an array filled with constant volume value `v_const`.\n",
    "\n",
    "- **Temperature (`T_array`)**: Changes from values `T_start` to `T_end`.\n",
    "\n",
    "- **Pressure (`P_array`)**: Changes as temperature changes, calculated using the ideal gas law: $P = \\frac{R \\, T}{\\upsilon}$.\n",
    "\n",
    "- **Enthalpy (`h_array`)**: Changes linearly with temperature, according to $h = c_p \\, T$.\n",
    "\n",
    "- **Entropy (`s_array`)**: Varies following $s = s_\\text{ref} + c_p \\, \\ln \\left(\\frac{T}{T_\\text{ref}} \\right) + R \\, \\ln \\left( \\frac{\\upsilon}{\\upsilon_\\text{ref}} \\right)$\n",
    "\n",
    "#### Code for the Arrays\n",
    "\n",
    "The next code cell defines a function to model isochoric processes."
   ]
  },
  {
   "cell_type": "code",
   "execution_count": 88,
   "id": "c91254f8",
   "metadata": {},
   "outputs": [],
   "source": [
    "# Defines a function to model isochoric processes\n",
    "\n",
    "def isochoric_process(R, cp, T_ref, v_ref, s_ref, v_const, T_start, T_end, points):\n",
    "    \n",
    "    \"\"\"\n",
    "    Parameters:\n",
    "    \n",
    "    - R: Specific gas constant of the gas\n",
    "    \n",
    "    - cp, T_ref, v_ref, s_ref: Reference properties for enthalpy and entropy calculations\n",
    "\n",
    "    - v_const: Constant specific volume during the process\n",
    "    \n",
    "    - T_start: Initial temperature\n",
    "    - T_end  : Final temperature\n",
    "    \n",
    "    - points: Number of data points to generate\n",
    "\n",
    "    Returns:\n",
    "\n",
    "    - Arrays for Temperature (T_array), Specific Volume (v_array), Pressure (P_array),\n",
    "      Enthalpy (h_array), and Entropy (s_array)\n",
    "    \"\"\"\n",
    "\n",
    "    # Creates an array filled with the constant volume value v_const\n",
    "    v_array = np.full(points, v_const)\n",
    "\n",
    "    # Temperature array\n",
    "    T_array = np.linspace(T_start, T_end, points)\n",
    "\n",
    "    # Pressure array, calculated using the ideal gas model\n",
    "    P_array = R * T_array / v_array\n",
    "\n",
    "    # Enthalpy array\n",
    "    h_array = cp * T_array\n",
    "\n",
    "    # Entropy array\n",
    "    s_array = s_ref + cp * np.log(T_array/T_ref) + R * np.log(v_array/v_ref)\n",
    "\n",
    "    return T_array, v_array, P_array, h_array, s_array"
   ]
  },
  {
   "cell_type": "markdown",
   "id": "178a59cc",
   "metadata": {},
   "source": [
    "#### Simulating an isochoric process\n",
    "\n",
    "To use it, *uncomment* the next cell (erase the `\"\"\"` at the beginning and at the end of the cell)."
   ]
  },
  {
   "cell_type": "code",
   "execution_count": 89,
   "id": "1e1c4ba4",
   "metadata": {},
   "outputs": [
    {
     "data": {
      "text/plain": [
       "'\\npoints = 1000  # Number of points to define the process arrays\\n\\n# Simulates an isochoric process from state 1 to state 2\\n\\nT12, v12, P12, h12, s12 = isochoric_process(\\n    R       = R,\\n    cp      = cp,\\n    T_ref   = T1,\\n    v_ref   = v1,\\n    s_ref   = s1,\\n    v_const = v1,\\n    T_start = T1,\\n    T_end   = T2,\\n    points  = points\\n)\\n'"
      ]
     },
     "execution_count": 89,
     "metadata": {},
     "output_type": "execute_result"
    }
   ],
   "source": [
    "\"\"\"\n",
    "points = 1000  # Number of points to define the process arrays\n",
    "\n",
    "# Simulates an isochoric process from state 1 to state 2\n",
    "\n",
    "T12, v12, P12, h12, s12 = isochoric_process(\n",
    "    R       = R,\n",
    "    cp      = cp,\n",
    "    T_ref   = T1,\n",
    "    v_ref   = v1,\n",
    "    s_ref   = s1,\n",
    "    v_const = v1,\n",
    "    T_start = T1,\n",
    "    T_end   = T2,\n",
    "    points  = points\n",
    ")\n",
    "\"\"\""
   ]
  },
  {
   "cell_type": "markdown",
   "id": "85dc7754",
   "metadata": {},
   "source": [
    "### Isobaric Processes\n",
    "\n",
    "Let's assume a process that ocurrs between two states at constant pressure. We will define what the arrays would look like for an isobaric process:\n",
    "\n",
    "\n",
    "- **Pressure (`P_array`)**: Remains unchanged, so it will be an array filled with constant volume value `P_const`.\n",
    "\n",
    "- **Specific volume (`v_array`)**: Changes from values `v_start` to `v_end`.\n",
    "\n",
    "- **Temperature (`T_array`)**: Changes as specific volume changes, calculated using the ideal gas law: $T = \\frac{P \\, \\upsilon}{R}$.\n",
    "\n",
    "- **Enthalpy (`h_array`)**: Changes linearly with temperature, according to $h = c_p \\, T$.\n",
    "\n",
    "- **Entropy (`s_array`)**: Varies following $s = s_\\text{ref} + c_p \\, \\ln \\left(\\frac{T}{T_\\text{ref}} \\right) - R \\, \\ln \\left( \\frac{P}{P_\\text{ref}} \\right)$\n",
    "\n",
    "#### Code for the Arrays\n",
    "\n",
    "The next code cell defines a function to model isobaric processes."
   ]
  },
  {
   "cell_type": "code",
   "execution_count": 90,
   "id": "5dc325ec",
   "metadata": {},
   "outputs": [],
   "source": [
    "# Defines a function to model isobaric processes\n",
    "\n",
    "def isobaric_process(R, cp, T_ref, P_ref, s_ref, P_const, v_start, v_end, points):\n",
    "    \n",
    "    \"\"\"\n",
    "    Parameters:\n",
    "    \n",
    "    - R: Specific gas constant of the gas\n",
    "    \n",
    "    - cp, T_ref, P_ref, s_ref: Reference properties for enthalpy and entropy calculations\n",
    "\n",
    "    - P_const: Constant pressure during the process\n",
    "    \n",
    "    - v_start: Initial specific volume\n",
    "    - v_end  : Final specific volume\n",
    "    \n",
    "    - points: Number of data points to generate\n",
    "\n",
    "    Returns:\n",
    "\n",
    "    - Arrays for Temperature (T_array), Specific Volume (v_array), Pressure (P_array),\n",
    "      Enthalpy (h_array), and Entropy (s_array)\n",
    "    \"\"\"\n",
    "\n",
    "    # Creates an array filled with the constant pressure value P_const\n",
    "    P_array = np.full(points, P_const)\n",
    "\n",
    "    # Temperature array\n",
    "    v_array = np.linspace(v_start, v_end, points)\n",
    "\n",
    "    # Temperature array, calculated using the ideal gas model\n",
    "    T_array = P_array * v_array / R\n",
    "\n",
    "    # Enthalpy array\n",
    "    h_array = cp * T_array\n",
    "\n",
    "    # Entropy array\n",
    "    s_array = s_ref + cp * np.log(T_array/T_ref) - R * np.log(P_array/P_ref)\n",
    "\n",
    "    return T_array, v_array, P_array, h_array, s_array"
   ]
  },
  {
   "cell_type": "markdown",
   "id": "48632957",
   "metadata": {},
   "source": [
    "#### Simulating an isobaric process\n",
    "\n",
    "To use it, *uncomment* the next cell (erase the `\"\"\"` at the beginning and at the end of the cell)."
   ]
  },
  {
   "cell_type": "code",
   "execution_count": 91,
   "id": "7732eaaf",
   "metadata": {},
   "outputs": [
    {
     "data": {
      "text/plain": [
       "'\\npoints = 1000  # Number of points to define the process arrays\\n\\n# Simulates an isobaric process from state 1 to state 2\\n\\nT12, v12, P12, h12, s12 = isobaric_process(\\n    R       = R,\\n    cp      = cp,\\n    T_ref   = T1,\\n    v_ref   = v1,\\n    s_ref   = s1,\\n    P_const = P1,\\n    v_start = v1,\\n    v_end   = v2,\\n    points  = points\\n)\\n'"
      ]
     },
     "execution_count": 91,
     "metadata": {},
     "output_type": "execute_result"
    }
   ],
   "source": [
    "\"\"\"\n",
    "points = 1000  # Number of points to define the process arrays\n",
    "\n",
    "# Simulates an isobaric process from state 1 to state 2\n",
    "\n",
    "T12, v12, P12, h12, s12 = isobaric_process(\n",
    "    R       = R,\n",
    "    cp      = cp,\n",
    "    T_ref   = T1,\n",
    "    v_ref   = v1,\n",
    "    s_ref   = s1,\n",
    "    P_const = P1,\n",
    "    v_start = v1,\n",
    "    v_end   = v2,\n",
    "    points  = points\n",
    ")\n",
    "\"\"\""
   ]
  },
  {
   "cell_type": "markdown",
   "id": "ff31c75f",
   "metadata": {},
   "source": [
    "## $P-\\upsilon$ Diagram + Isotherms"
   ]
  },
  {
   "cell_type": "markdown",
   "id": "c2af64ba",
   "metadata": {},
   "source": [
    "### Arrays for the isotherms"
   ]
  },
  {
   "cell_type": "code",
   "execution_count": 92,
   "id": "2769f701",
   "metadata": {},
   "outputs": [],
   "source": [
    "#Isotherm for Tc\n",
    "vc = np.linspace(v2, v3, points)\n",
    "pc = P1 * v1 / vc\n",
    "\n",
    "#Isotherm for Th\n",
    "vh = np.linspace(v4, v1, points)\n",
    "ph = P3 * v3 / vh"
   ]
  },
  {
   "cell_type": "markdown",
   "id": "8ee50693",
   "metadata": {},
   "source": [
    "### Diagram"
   ]
  },
  {
   "cell_type": "code",
   "execution_count": 93,
   "id": "0a973a4c",
   "metadata": {},
   "outputs": [
    {
     "data": {
      "image/png": "[encoded data removed]",
      "text/plain": [
       "<Figure size 2000x1000 with 1 Axes>"
      ]
     },
     "metadata": {},
     "output_type": "display_data"
    }
   ],
   "source": [
    "fig, ax = plt.subplots(figsize=(20, 10))\n",
    "\n",
    "# Title\n",
    "ax.set_title(r'Carnot Engine · CO · P-v Diagram + $T_h$ and $T_c$ Isotherms')\n",
    "\n",
    "# Isotherms\n",
    "ax.plot(vh,ph,'r--',linewidth=0.5)  # Th\n",
    "ax.plot(vc,pc,'b--',linewidth=0.5)  # Tc\n",
    "\n",
    "# Isotherms annotations\n",
    "ax.annotate(r'$T_c$', xy=(v3, P1*v1/v3), xytext=(v3, P1*v1/v3), fontsize=16, ha='center')  # Th\n",
    "ax.annotate(r'$T_h$', xy=(v1, P3*v3/v1), xytext=(v1, P3*v3/v1), fontsize=16, ha='center')  # Tc\n",
    "\n",
    "# State markers\n",
    "ax.plot(v1, P1, 'ro', markersize=10)  # State 1\n",
    "ax.plot(v2, P2, 'ro', markersize=10)  # State 2\n",
    "ax.plot(v3, P3, 'bo', markersize=10)  # State 3\n",
    "ax.plot(v4, P4, 'bo', markersize=10)  # State 4\n",
    "\n",
    "# State annotations\n",
    "ax.annotate('1', xy=(v1, P1), xytext=(v1, P1*0.35), fontsize=14, ha='center')  # State 1\n",
    "ax.annotate('2', xy=(v2, P2), xytext=(v2, P2*0.81), fontsize=14, ha='center')  # State 2\n",
    "ax.annotate('3', xy=(v3, P3), xytext=(v3, P3*1.02), fontsize=14, ha='center')  # State 3\n",
    "ax.annotate('4', xy=(v4, P4), xytext=(v4, P4*1.05), fontsize=14, ha='center')  # State 4\n",
    "\n",
    "# Process curves\n",
    "ax.plot(v12, P12, 'r-', linewidth=2, label=r'1-2 Isothermal $T=T_c$')  # 1➛2: Isothermal\n",
    "ax.plot(v23, P23, 'g-', linewidth=2, label= '2-3 Adiabatic')           # 2➛3: Adiabatic\n",
    "ax.plot(v34, P34, 'b-', linewidth=2, label=r'3-4 Isothermal $T=T_h$')  # 3➛4: Isothermal\n",
    "ax.plot(v41, P41, 'g-', linewidth=2, label= '4-1 Adiabatic')           # 4➛1: Adiabatic\n",
    "\n",
    "# Axis labels\n",
    "ax.set_ylabel('Pressure (kPa)')\n",
    "ax.set_xlabel(r'specific volume $\\left(\\frac{m^3}{kg}\\right)$')\n",
    "\n",
    "ax.grid(True)                # Enable grid\n",
    "ax.legend(loc='upper right') # Show legend and adjusts its position to minimize overlap\n",
    "\n",
    "plt.show()"
   ]
  }
 ],
 "metadata": {
  "colab": {
   "provenance": []
  },
  "kernelspec": {
   "display_name": "Python \n(projects)",
   "language": "python",
   "name": "projects"
  },
  "language_info": {
   "codemirror_mode": {
    "name": "ipython",
    "version": 3
   },
   "file_extension": ".py",
   "mimetype": "text/x-python",
   "name": "python",
   "nbconvert_exporter": "python",
   "pygments_lexer": "ipython3",
   "version": "3.13.5"
  }
 },
 "nbformat": 4,
 "nbformat_minor": 5
}
