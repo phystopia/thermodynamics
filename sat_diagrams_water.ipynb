{
 "cells": [
  {
   "cell_type": "markdown",
   "execution_count": null,
   "id": "d574ea2d",
   "metadata": {
    "colab_type": "text",
    "id": "view-in-github"
   },
   "outputs": null,
   "source": [
    "# Saturation Diagrams for Water\n",
    "This notebook computes saturation P-v and T-s diagrams for water using PyroMat.\n",
    "Prerequisites: Python with `numpy`, `matplotlib`, and `pyromat`.\n",
    "[![Open In Colab](https://colab.research.google.com/assets/colab-badge.svg)](https://colab.research.google.com/github/phystopia/pyromat-thermodynamics/blob/main/sat_diagrams_water.ipynb)\n"
   ]
  },
  {
   "cell_type": "code",
   "execution_count": null,
   "id": "4817a336-96fb-4a9c-9013-e80ee4cbb7e6",
   "metadata": {
    "colab": {
     "base_uri": "https://localhost:8080/"
    },
    "id": "4817a336-96fb-4a9c-9013-e80ee4cbb7e6",
    "outputId": "e85310d2-e7fa-4498-ee0c-6c2701dfad45"
   },
   "outputs": [],
   "source": [
    "import importlib, subprocess, sys\n",
    "if importlib.util.find_spec('pyromat') is None:\n",
    "    subprocess.check_call([sys.executable, '-m', 'pip', 'install', 'pyromat'])\n",
    "import pyromat as pm\n",
    "import numpy as np\n",
    "import matplotlib.pyplot as plt\n",
    "\n",
    "pm.config['unit_pressure'] = 'kPa'"
   ]
  },
  {
   "cell_type": "markdown",
   "execution_count": null,
   "id": "fVZc8vb8dKxK",
   "metadata": {
    "id": "fVZc8vb8dKxK"
   },
   "outputs": null,
   "source": [
    "## Data from multiphase-water"
   ]
  },
  {
   "cell_type": "code",
   "execution_count": null,
   "id": "DkeduHRMdSYG",
   "metadata": {
    "id": "DkeduHRMdSYG"
   },
   "outputs": [],
   "source": [
    "water = pm.get(\"mp.H2O\")"
   ]
  },
  {
   "cell_type": "markdown",
   "execution_count": null,
   "id": "8fd58481-0c9e-4cba-b176-dbdfaa2d8c8c",
   "metadata": {
    "id": "8fd58481-0c9e-4cba-b176-dbdfaa2d8c8c"
   },
   "outputs": null,
   "source": [
    "## Saturation P-v Diagram for Water"
   ]
  },
  {
   "cell_type": "markdown",
   "execution_count": null,
   "id": "7eJMt9y7eXpC",
   "metadata": {
    "id": "7eJMt9y7eXpC"
   },
   "outputs": null,
   "source": [
    "### Defining the range of pressures, from the minimum to the critical pressure."
   ]
  },
  {
   "cell_type": "code",
   "execution_count": null,
   "id": "pvxVT7AAUlSA",
   "metadata": {
    "id": "pvxVT7AAUlSA"
   },
   "outputs": [],
   "source": [
    "p = np.logspace(0, np.log10(22060), 500)"
   ]
  },
  {
   "cell_type": "markdown",
   "execution_count": null,
   "id": "bK0xifzGels_",
   "metadata": {
    "id": "bK0xifzGels_"
   },
   "outputs": null,
   "source": [
    "### Defining saturation specific volumes."
   ]
  },
  {
   "cell_type": "code",
   "execution_count": null,
   "id": "a10680e0-cdb1-4cf9-8db0-c40c1910c472",
   "metadata": {
    "id": "a10680e0-cdb1-4cf9-8db0-c40c1910c472"
   },
   "outputs": [],
   "source": [
    "v = water.vs(p=p)\n",
    "vf= v[0]\n",
    "vg= v[1]"
   ]
  },
  {
   "cell_type": "markdown",
   "execution_count": null,
   "id": "9OatGXieeTgb",
   "metadata": {
    "id": "9OatGXieeTgb"
   },
   "outputs": null,
   "source": [
    "### Creating the log-log graph."
   ]
  },
  {
   "cell_type": "code",
   "execution_count": null,
   "id": "7f73d63c-9706-40c5-a82e-70e5142def26",
   "metadata": {
    "colab": {
     "base_uri": "https://localhost:8080/",
     "height": 601
    },
    "id": "7f73d63c-9706-40c5-a82e-70e5142def26",
    "outputId": "a0383a02-9faa-41ab-8d63-bd80e56bc391"
   },
   "outputs": [],
   "source": [
    "font = {'family' : 'Helvetica',\n",
    "        'size'   : 22}\n",
    "plt.figure(figsize=(30,10))\n",
    "plt.xscale(\"log\")\n",
    "plt.yscale(\"log\")\n",
    "plt.title('Saturation P-v Diagram for Water')\n",
    "plt.rc('font', **font)\n",
    "plt.plot(vf,p, 'b--')\n",
    "plt.plot(vg,p,'r--')\n",
    "plt.ylabel('Pressure (kPa)')\n",
    "plt.xlabel('specific volume (m3/kg)')\n",
    "plt.legend(['sat. liquid','sat. vapor'])\n",
    "plt.grid(True)\n",
    "plt.show()"
   ]
  },
  {
   "cell_type": "code",
   "execution_count": null,
   "id": "8dzl7yiXbxo5",
   "metadata": {
    "colab": {
     "base_uri": "https://localhost:8080/",
     "height": 579
    },
    "id": "8dzl7yiXbxo5",
    "outputId": "c91334e5-7590-45dc-8732-5b3bf57be253"
   },
   "outputs": [],
   "source": [
    "font = {'family' : 'Helvetica',\n",
    "        'size'   : 22}\n",
    "plt.figure(figsize=(30,10))\n",
    "plt.title('Saturation P-v Diagram for Water')\n",
    "plt.rc('font', **font)\n",
    "plt.xlim([0,0.1])\n",
    "plt.plot(vf,p, 'b--')\n",
    "plt.plot(vg,p,'r--')\n",
    "plt.ylabel('Pressure (kPa)')\n",
    "plt.xlabel('specific volume (m3/kg)')\n",
    "plt.legend(['sat. liquid','sat. vapor'])\n",
    "plt.grid(True)\n",
    "plt.show()"
   ]
  },
  {
   "cell_type": "markdown",
   "execution_count": null,
   "id": "0e22a9c6-2816-4920-8fba-42273bda00bb",
   "metadata": {
    "id": "0e22a9c6-2816-4920-8fba-42273bda00bb"
   },
   "outputs": null,
   "source": [
    "## Saturation T-s Diagram for Water"
   ]
  },
  {
   "cell_type": "markdown",
   "execution_count": null,
   "id": "ogDipD-pdnv4",
   "metadata": {
    "id": "ogDipD-pdnv4"
   },
   "outputs": null,
   "source": [
    "### New range of pressures, in order to not have errors calculating derivatives."
   ]
  },
  {
   "cell_type": "code",
   "execution_count": null,
   "id": "nZ7qMqHRV61s",
   "metadata": {
    "id": "nZ7qMqHRV61s"
   },
   "outputs": [],
   "source": [
    "p = np.logspace(0, np.log10(21960), 500)"
   ]
  },
  {
   "cell_type": "markdown",
   "execution_count": null,
   "id": "Y-criOMUd7UY",
   "metadata": {
    "id": "Y-criOMUd7UY"
   },
   "outputs": null,
   "source": [
    "### Defining saturation temperatures and entropies."
   ]
  },
  {
   "cell_type": "code",
   "execution_count": null,
   "id": "39bec62a-ac55-4537-8a9a-ee5b566a3476",
   "metadata": {
    "id": "39bec62a-ac55-4537-8a9a-ee5b566a3476"
   },
   "outputs": [],
   "source": [
    "T = water.Ts(p=p)\n",
    "s = water.ss(p=p)"
   ]
  },
  {
   "cell_type": "markdown",
   "execution_count": null,
   "id": "Ul0ABLQKeLas",
   "metadata": {
    "id": "Ul0ABLQKeLas"
   },
   "outputs": null,
   "source": [
    "### Creating the graph."
   ]
  },
  {
   "cell_type": "code",
   "execution_count": null,
   "id": "b4646a84-0d3c-4324-8974-1e79ceef8bfd",
   "metadata": {
    "colab": {
     "base_uri": "https://localhost:8080/",
     "height": 669
    },
    "id": "b4646a84-0d3c-4324-8974-1e79ceef8bfd",
    "outputId": "63ebe5a5-6ee9-461d-f0e6-10601d8e1cd2"
   },
   "outputs": [],
   "source": [
    "font = {'family' : 'Helvetica',\n",
    "        'size'   : 22}\n",
    "plt.figure(figsize=(15,10))\n",
    "plt.title('Saturation T-s Diagram for Water')\n",
    "plt.rc('font', **font)\n",
    "plt.plot(s[0],T, 'b--')\n",
    "plt.plot(s[1],T,'r--')\n",
    "plt.ylabel('Temperature (K)')\n",
    "plt.xlabel('specific entropy (kJ/kg)')\n",
    "plt.legend(['sat. liquid','sat. vapor'])\n",
    "plt.grid(True)\n",
    "plt.show()"
   ]
  }
 ],
 "metadata": {
  "colab": {
   "collapsed_sections": [],
   "include_colab_link": true,
   "provenance": []
  },
  "kernelspec": {
   "display_name": "Python 3 (ipykernel)",
   "language": "python",
   "name": "python3"
  },
  "language_info": {
   "codemirror_mode": {
    "name": "ipython",
    "version": 3
   },
   "file_extension": ".py",
   "mimetype": "text/x-python",
   "name": "python",
   "nbconvert_exporter": "python",
   "pygments_lexer": "ipython3",
   "version": "3.9.7"
  }
 },
 "nbformat": 4,
 "nbformat_minor": 5
}
